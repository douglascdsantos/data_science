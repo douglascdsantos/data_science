{
  "nbformat": 4,
  "nbformat_minor": 0,
  "metadata": {
    "colab": {
      "name": "Analisando os Dados do Airbnb (Tokyo).ipynb",
      "provenance": [],
      "authorship_tag": "ABX9TyOoRD7W1AcURlG5vyNmBdNR",
      "include_colab_link": true
    },
    "kernelspec": {
      "name": "python3",
      "display_name": "Python 3"
    },
    "language_info": {
      "name": "python"
    }
  },
  "cells": [
    {
      "cell_type": "markdown",
      "metadata": {
        "id": "view-in-github",
        "colab_type": "text"
      },
      "source": [
        "<a href=\"https://colab.research.google.com/github/douglascdsantos/data_science/blob/main/projetos/analisando_os_dados_do_airbnb_(tokyo)/notebook/Analisando_os_Dados_do_Airbnb_(Tokyo).ipynb\" target=\"_parent\"><img src=\"https://colab.research.google.com/assets/colab-badge.svg\" alt=\"Open In Colab\"/></a>"
      ]
    },
    {
      "cell_type": "markdown",
      "metadata": {
        "id": "sVz6hwDcssVC"
      },
      "source": [
        "# Análisedos dados do Airbnb da cidade de Tokyo\n",
        "\n",
        "O [Airbnb](https://www.airbnb.com) nasceu em 2008 conectando pessoas que pussuiam quartos ociosos em suas casas com pessoas que precisavam de acomodação temporária, hoje em dia é possível um comodo ou o imóvel todo e eles não trabalham somente com acomodação, mas também com um experiência online - um ótimo serviço em tempos de reclusão e isolamento por sinal.\n",
        "\n",
        "O Airbnb consegue estar presente em mais de 100.000 cidades do mundo inteiro **sem ter nenhum hotel**, nesse modelo de negocios temos uma geração de dados muito grande a qual é disponibilizada por meio do Inside [Airbnb](http://insideairbnb.com/index.html), dentro do portal temos a diversas opção de cidades pelo mundo e varias tipos de dados da mesma cidade, no presente estudo optamos pela escolha da cidade de Tokyo."
      ]
    },
    {
      "cell_type": "markdown",
      "metadata": {
        "id": "Snbu-fIzyqAh"
      },
      "source": [
        "## Objetivos\n",
        "\n",
        "Nesta análise espera-se responder questões como:\n",
        "\n",
        "- Quantos atributos (variáveis) e quantas entradas o nosso conjunto de dados possui? Quais os tipos das variáveis?\n",
        "- Qual a porcentagem de valores ausentes no dataset?\n",
        "- Qual o tipo de distribuição das variáveis?\n",
        "- Há outliers presentes?\n",
        "- Qual a correlação existente entre as variáveis\n",
        "- Qual o tipo de imóvel mais alugado no Airbnb?\n",
        "- Qual a localidade mais cara de Tokyo?\n",
        "\n",
        "E as de mais que aparecerem durante o desenvolvimento do projeto."
      ]
    },
    {
      "cell_type": "markdown",
      "metadata": {
        "id": "akRYR86Cz_YJ"
      },
      "source": [
        "## Obtenção dos dados\n",
        "Os dados utilizados estão disponiveis no portal [Inside Airbnb](http://insideairbnb.com/), basta procurar por `Tokyo`, a data de compilação do arquivo estava como 29 de setembro de 2021, para evitar alteração do arquivo, caso o arquivo viesse direito do portal, durante o desenvolvimento do projeto o aquivo foi carregado no GitHub, e pode se encontrado neste link.\n",
        "Iremos utilizar o seguinte arquivo para nossa análise exploratória:\n",
        "- `listings.csv` - *Summary information and metrics for listings in Tokyo (good for visualisations)*.\n",
        "\n",
        "Dessa forma podemos iniciar."
      ]
    },
    {
      "cell_type": "code",
      "metadata": {
        "id": "UfAO_cPDkrXR"
      },
      "source": [
        "# importar os pacotes necessarios\n",
        "import pandas as pd\n",
        "import matplotlib.pyplot as plt\n",
        "import seaborn as sns\n",
        "\n",
        "%matplotlib inline"
      ],
      "execution_count": 1,
      "outputs": []
    },
    {
      "cell_type": "code",
      "metadata": {
        "id": "EVXXG6bblJul"
      },
      "source": [
        "# url do dataset salvo no github\n",
        "url = 'https://raw.githubusercontent.com/douglascdsantos/data_science/main/projetos/analisando_os_dados_do_airbnb_(tokyo)/listings.csv'\n",
        "\n",
        "# importação do dataset em um DataFrame\n",
        "airbnb = pd.read_csv(url,\n",
        "                     parse_dates = ['last_review'])"
      ],
      "execution_count": 36,
      "outputs": []
    },
    {
      "cell_type": "markdown",
      "metadata": {
        "id": "AQKSRWPqSGfU"
      },
      "source": [
        "## Tratamento e seleção dos dados\n",
        "Inicialmente vamos começar a ter contato com os dados, dessa forma vamos listar as features (colunas) e qual o seu significado"
      ]
    },
    {
      "cell_type": "markdown",
      "metadata": {
        "id": "W9XooEza34QZ"
      },
      "source": [
        "\n",
        "### Dicionário das Variáveis\n",
        "- `id`: númuero único que identifica o imóvel;\n",
        "- `name`: nome da propriedade;\n",
        "- `host_id`: nome do proprietário (locador) do imóvel;\n",
        "- `neighbourhood_group`: grupo do bairro;\n",
        "- `neighbourhood`: bairro;\n",
        "- `latitude`: coordenada de latitude da localização;\n",
        "- `longitude`: coordenada de longitude da localização;\n",
        "- `room_type`: tipo do quarto do anúncio;\n",
        "- `price`: preço do aluguel;\n",
        "- `minimum_nights`: quantidade minima de noite;\n",
        "- `number_of_reviews`: números de reviews que a acomodação possui;\n",
        "- `last_review`: data do último review;\n",
        "- `reviews_per_month`: reviews por mês;\n",
        "- `calculated_host_listings_count`: quatidade de acomodações por anfitrião;\n",
        "- `availability_365`: disponibilidade em 365 dias;\n",
        "- `number_of_reviews_ltm`: número de reviews nos últimos 12 meses;\n",
        "- `license`: licença.\n",
        "\n",
        "Vamos então verificar as extremidades do nosso dataset, geralmente podemos pegar alguma inconsistência nas entradas dependendo da meneira de como é registrada."
      ]
    },
    {
      "cell_type": "code",
      "metadata": {
        "id": "lJj0Wgaa4e2C",
        "outputId": "6e100a83-52ec-495a-f118-c8123e779c24",
        "colab": {
          "base_uri": "https://localhost:8080/",
          "height": 530
        }
      },
      "source": [
        "# conferindo as primeiras 5 entradas\n",
        "airbnb.head()"
      ],
      "execution_count": 37,
      "outputs": [
        {
          "output_type": "execute_result",
          "data": {
            "text/html": [
              "<div>\n",
              "<style scoped>\n",
              "    .dataframe tbody tr th:only-of-type {\n",
              "        vertical-align: middle;\n",
              "    }\n",
              "\n",
              "    .dataframe tbody tr th {\n",
              "        vertical-align: top;\n",
              "    }\n",
              "\n",
              "    .dataframe thead th {\n",
              "        text-align: right;\n",
              "    }\n",
              "</style>\n",
              "<table border=\"1\" class=\"dataframe\">\n",
              "  <thead>\n",
              "    <tr style=\"text-align: right;\">\n",
              "      <th></th>\n",
              "      <th>id</th>\n",
              "      <th>name</th>\n",
              "      <th>host_id</th>\n",
              "      <th>host_name</th>\n",
              "      <th>neighbourhood_group</th>\n",
              "      <th>neighbourhood</th>\n",
              "      <th>latitude</th>\n",
              "      <th>longitude</th>\n",
              "      <th>room_type</th>\n",
              "      <th>price</th>\n",
              "      <th>minimum_nights</th>\n",
              "      <th>number_of_reviews</th>\n",
              "      <th>last_review</th>\n",
              "      <th>reviews_per_month</th>\n",
              "      <th>calculated_host_listings_count</th>\n",
              "      <th>availability_365</th>\n",
              "      <th>number_of_reviews_ltm</th>\n",
              "      <th>license</th>\n",
              "    </tr>\n",
              "  </thead>\n",
              "  <tbody>\n",
              "    <tr>\n",
              "      <th>0</th>\n",
              "      <td>197677</td>\n",
              "      <td>Oshiage Holiday Apartment</td>\n",
              "      <td>964081</td>\n",
              "      <td>Yoshimi &amp; Marek</td>\n",
              "      <td>NaN</td>\n",
              "      <td>Sumida Ku</td>\n",
              "      <td>35.71707</td>\n",
              "      <td>139.82608</td>\n",
              "      <td>Entire home/apt</td>\n",
              "      <td>11000</td>\n",
              "      <td>3</td>\n",
              "      <td>165</td>\n",
              "      <td>2019-11-14</td>\n",
              "      <td>1.50</td>\n",
              "      <td>1</td>\n",
              "      <td>363</td>\n",
              "      <td>0</td>\n",
              "      <td>M130003350</td>\n",
              "    </tr>\n",
              "    <tr>\n",
              "      <th>1</th>\n",
              "      <td>776070</td>\n",
              "      <td>Kero-kero house room 1</td>\n",
              "      <td>801494</td>\n",
              "      <td>Kei</td>\n",
              "      <td>NaN</td>\n",
              "      <td>Kita Ku</td>\n",
              "      <td>35.73844</td>\n",
              "      <td>139.76917</td>\n",
              "      <td>Private room</td>\n",
              "      <td>7816</td>\n",
              "      <td>3</td>\n",
              "      <td>228</td>\n",
              "      <td>2020-01-18</td>\n",
              "      <td>2.33</td>\n",
              "      <td>1</td>\n",
              "      <td>216</td>\n",
              "      <td>0</td>\n",
              "      <td>M130000243</td>\n",
              "    </tr>\n",
              "    <tr>\n",
              "      <th>2</th>\n",
              "      <td>1033276</td>\n",
              "      <td>private room @Senju area</td>\n",
              "      <td>5686404</td>\n",
              "      <td>Yukiko</td>\n",
              "      <td>NaN</td>\n",
              "      <td>Adachi Ku</td>\n",
              "      <td>35.74437</td>\n",
              "      <td>139.79739</td>\n",
              "      <td>Private room</td>\n",
              "      <td>30000</td>\n",
              "      <td>1</td>\n",
              "      <td>72</td>\n",
              "      <td>2018-04-15</td>\n",
              "      <td>0.78</td>\n",
              "      <td>2</td>\n",
              "      <td>270</td>\n",
              "      <td>0</td>\n",
              "      <td>M130007760</td>\n",
              "    </tr>\n",
              "    <tr>\n",
              "      <th>3</th>\n",
              "      <td>1096292</td>\n",
              "      <td>Home stay with a Japanese language teacher fam...</td>\n",
              "      <td>6018145</td>\n",
              "      <td>Mari</td>\n",
              "      <td>NaN</td>\n",
              "      <td>Shinjuku Ku</td>\n",
              "      <td>35.69233</td>\n",
              "      <td>139.70851</td>\n",
              "      <td>Private room</td>\n",
              "      <td>14036</td>\n",
              "      <td>1</td>\n",
              "      <td>252</td>\n",
              "      <td>2020-02-12</td>\n",
              "      <td>2.73</td>\n",
              "      <td>3</td>\n",
              "      <td>365</td>\n",
              "      <td>1</td>\n",
              "      <td>M130002814</td>\n",
              "    </tr>\n",
              "    <tr>\n",
              "      <th>4</th>\n",
              "      <td>1196177</td>\n",
              "      <td>Stay with host Cozy private room Senju area</td>\n",
              "      <td>5686404</td>\n",
              "      <td>Yukiko</td>\n",
              "      <td>NaN</td>\n",
              "      <td>Adachi Ku</td>\n",
              "      <td>35.74475</td>\n",
              "      <td>139.79731</td>\n",
              "      <td>Private room</td>\n",
              "      <td>3000</td>\n",
              "      <td>2</td>\n",
              "      <td>95</td>\n",
              "      <td>2020-03-17</td>\n",
              "      <td>0.98</td>\n",
              "      <td>2</td>\n",
              "      <td>88</td>\n",
              "      <td>0</td>\n",
              "      <td>M130007760</td>\n",
              "    </tr>\n",
              "  </tbody>\n",
              "</table>\n",
              "</div>"
            ],
            "text/plain": [
              "        id  ...     license\n",
              "0   197677  ...  M130003350\n",
              "1   776070  ...  M130000243\n",
              "2  1033276  ...  M130007760\n",
              "3  1096292  ...  M130002814\n",
              "4  1196177  ...  M130007760\n",
              "\n",
              "[5 rows x 18 columns]"
            ]
          },
          "metadata": {},
          "execution_count": 37
        }
      ]
    },
    {
      "cell_type": "code",
      "metadata": {
        "id": "fO0ZBu5WVBbk",
        "outputId": "c2c7d4e2-f297-4816-cd9d-021bfe2111f7",
        "colab": {
          "base_uri": "https://localhost:8080/",
          "height": 394
        }
      },
      "source": [
        "# conferindo uma amostra aleatória de 5 entradas\n",
        "airbnb.sample(5)"
      ],
      "execution_count": 38,
      "outputs": [
        {
          "output_type": "execute_result",
          "data": {
            "text/html": [
              "<div>\n",
              "<style scoped>\n",
              "    .dataframe tbody tr th:only-of-type {\n",
              "        vertical-align: middle;\n",
              "    }\n",
              "\n",
              "    .dataframe tbody tr th {\n",
              "        vertical-align: top;\n",
              "    }\n",
              "\n",
              "    .dataframe thead th {\n",
              "        text-align: right;\n",
              "    }\n",
              "</style>\n",
              "<table border=\"1\" class=\"dataframe\">\n",
              "  <thead>\n",
              "    <tr style=\"text-align: right;\">\n",
              "      <th></th>\n",
              "      <th>id</th>\n",
              "      <th>name</th>\n",
              "      <th>host_id</th>\n",
              "      <th>host_name</th>\n",
              "      <th>neighbourhood_group</th>\n",
              "      <th>neighbourhood</th>\n",
              "      <th>latitude</th>\n",
              "      <th>longitude</th>\n",
              "      <th>room_type</th>\n",
              "      <th>price</th>\n",
              "      <th>minimum_nights</th>\n",
              "      <th>number_of_reviews</th>\n",
              "      <th>last_review</th>\n",
              "      <th>reviews_per_month</th>\n",
              "      <th>calculated_host_listings_count</th>\n",
              "      <th>availability_365</th>\n",
              "      <th>number_of_reviews_ltm</th>\n",
              "      <th>license</th>\n",
              "    </tr>\n",
              "  </thead>\n",
              "  <tbody>\n",
              "    <tr>\n",
              "      <th>4198</th>\n",
              "      <td>34070227</td>\n",
              "      <td>50㎡ DeluxeFamilySuite/5min from Hirai sta/Max ...</td>\n",
              "      <td>229388614</td>\n",
              "      <td>Kaoru</td>\n",
              "      <td>NaN</td>\n",
              "      <td>Edogawa Ku</td>\n",
              "      <td>35.70978</td>\n",
              "      <td>139.84460</td>\n",
              "      <td>Entire home/apt</td>\n",
              "      <td>14100</td>\n",
              "      <td>1</td>\n",
              "      <td>29</td>\n",
              "      <td>2020-02-12</td>\n",
              "      <td>1.01</td>\n",
              "      <td>6</td>\n",
              "      <td>81</td>\n",
              "      <td>3</td>\n",
              "      <td>M130013697</td>\n",
              "    </tr>\n",
              "    <tr>\n",
              "      <th>1861</th>\n",
              "      <td>25377337</td>\n",
              "      <td>【Ginza/Tokyo area】 Junior Suite (Free Wi-Fi)</td>\n",
              "      <td>40200307</td>\n",
              "      <td>Hotel Vintage</td>\n",
              "      <td>NaN</td>\n",
              "      <td>Chuo Ku</td>\n",
              "      <td>35.67128</td>\n",
              "      <td>139.77768</td>\n",
              "      <td>Private room</td>\n",
              "      <td>6934</td>\n",
              "      <td>1</td>\n",
              "      <td>426</td>\n",
              "      <td>2021-09-01</td>\n",
              "      <td>12.58</td>\n",
              "      <td>2</td>\n",
              "      <td>87</td>\n",
              "      <td>416</td>\n",
              "      <td>Hotels and Inns Business Act | 東京都中央区所長　中橋　猛 |...</td>\n",
              "    </tr>\n",
              "    <tr>\n",
              "      <th>2869</th>\n",
              "      <td>29810892</td>\n",
              "      <td>FF278 Shibuya sta. 6mins walk! Max 3ppl with W...</td>\n",
              "      <td>224267449</td>\n",
              "      <td>Yuri</td>\n",
              "      <td>NaN</td>\n",
              "      <td>Shibuya Ku</td>\n",
              "      <td>35.65865</td>\n",
              "      <td>139.69524</td>\n",
              "      <td>Entire home/apt</td>\n",
              "      <td>19686</td>\n",
              "      <td>1</td>\n",
              "      <td>69</td>\n",
              "      <td>2020-02-08</td>\n",
              "      <td>2.01</td>\n",
              "      <td>2</td>\n",
              "      <td>0</td>\n",
              "      <td>14</td>\n",
              "      <td>M130009895</td>\n",
              "    </tr>\n",
              "    <tr>\n",
              "      <th>9996</th>\n",
              "      <td>50015885</td>\n",
              "      <td>Kuramae station #HighQualityHouse@FreeFixed wifi</td>\n",
              "      <td>378179123</td>\n",
              "      <td>L.G.X</td>\n",
              "      <td>NaN</td>\n",
              "      <td>Sumida Ku</td>\n",
              "      <td>35.70600</td>\n",
              "      <td>139.79847</td>\n",
              "      <td>Entire home/apt</td>\n",
              "      <td>8500</td>\n",
              "      <td>1</td>\n",
              "      <td>1</td>\n",
              "      <td>2021-09-09</td>\n",
              "      <td>1.00</td>\n",
              "      <td>1</td>\n",
              "      <td>177</td>\n",
              "      <td>1</td>\n",
              "      <td>M130026000</td>\n",
              "    </tr>\n",
              "    <tr>\n",
              "      <th>9755</th>\n",
              "      <td>49101320</td>\n",
              "      <td>5minJR sta#HighQualityHouse@NostalgicOtsuka(6F-2)</td>\n",
              "      <td>197405131</td>\n",
              "      <td>春樹</td>\n",
              "      <td>NaN</td>\n",
              "      <td>Toshima Ku</td>\n",
              "      <td>35.72960</td>\n",
              "      <td>139.73463</td>\n",
              "      <td>Entire home/apt</td>\n",
              "      <td>6089</td>\n",
              "      <td>1</td>\n",
              "      <td>0</td>\n",
              "      <td>NaT</td>\n",
              "      <td>NaN</td>\n",
              "      <td>46</td>\n",
              "      <td>177</td>\n",
              "      <td>0</td>\n",
              "      <td>M130028851</td>\n",
              "    </tr>\n",
              "  </tbody>\n",
              "</table>\n",
              "</div>"
            ],
            "text/plain": [
              "            id  ...                                            license\n",
              "4198  34070227  ...                                         M130013697\n",
              "1861  25377337  ...  Hotels and Inns Business Act | 東京都中央区所長　中橋　猛 |...\n",
              "2869  29810892  ...                                         M130009895\n",
              "9996  50015885  ...                                         M130026000\n",
              "9755  49101320  ...                                         M130028851\n",
              "\n",
              "[5 rows x 18 columns]"
            ]
          },
          "metadata": {},
          "execution_count": 38
        }
      ]
    },
    {
      "cell_type": "code",
      "metadata": {
        "id": "W3Wgh9mqOOj5",
        "outputId": "dcef8cf0-80a4-46b7-8838-01766f4066ec",
        "colab": {
          "base_uri": "https://localhost:8080/",
          "height": 1000
        }
      },
      "source": [
        "# conferindo as últimas 5 entradas\n",
        "airbnb.tail()"
      ],
      "execution_count": 39,
      "outputs": [
        {
          "output_type": "execute_result",
          "data": {
            "text/html": [
              "<div>\n",
              "<style scoped>\n",
              "    .dataframe tbody tr th:only-of-type {\n",
              "        vertical-align: middle;\n",
              "    }\n",
              "\n",
              "    .dataframe tbody tr th {\n",
              "        vertical-align: top;\n",
              "    }\n",
              "\n",
              "    .dataframe thead th {\n",
              "        text-align: right;\n",
              "    }\n",
              "</style>\n",
              "<table border=\"1\" class=\"dataframe\">\n",
              "  <thead>\n",
              "    <tr style=\"text-align: right;\">\n",
              "      <th></th>\n",
              "      <th>id</th>\n",
              "      <th>name</th>\n",
              "      <th>host_id</th>\n",
              "      <th>host_name</th>\n",
              "      <th>neighbourhood_group</th>\n",
              "      <th>neighbourhood</th>\n",
              "      <th>latitude</th>\n",
              "      <th>longitude</th>\n",
              "      <th>room_type</th>\n",
              "      <th>price</th>\n",
              "      <th>minimum_nights</th>\n",
              "      <th>number_of_reviews</th>\n",
              "      <th>last_review</th>\n",
              "      <th>reviews_per_month</th>\n",
              "      <th>calculated_host_listings_count</th>\n",
              "      <th>availability_365</th>\n",
              "      <th>number_of_reviews_ltm</th>\n",
              "      <th>license</th>\n",
              "    </tr>\n",
              "  </thead>\n",
              "  <tbody>\n",
              "    <tr>\n",
              "      <th>10665</th>\n",
              "      <td>52486420</td>\n",
              "      <td>new open/新宿/大久保5分/免费WiFi</td>\n",
              "      <td>310747973</td>\n",
              "      <td>Yama</td>\n",
              "      <td>NaN</td>\n",
              "      <td>Shinjuku Ku</td>\n",
              "      <td>35.704780</td>\n",
              "      <td>139.692704</td>\n",
              "      <td>Entire home/apt</td>\n",
              "      <td>5600</td>\n",
              "      <td>1</td>\n",
              "      <td>0</td>\n",
              "      <td>NaT</td>\n",
              "      <td>NaN</td>\n",
              "      <td>7</td>\n",
              "      <td>175</td>\n",
              "      <td>0</td>\n",
              "      <td>Hotels and Inns Business Act | 新宿区保健所 | 2新保衛環第94号</td>\n",
              "    </tr>\n",
              "    <tr>\n",
              "      <th>10666</th>\n",
              "      <td>52497948</td>\n",
              "      <td>48密や時間を気にせず友人たちと集まれる新築2階建貸切♪無料駐車あり☆目の前にスーパー☆シェ...</td>\n",
              "      <td>183877565</td>\n",
              "      <td>UI Home Company</td>\n",
              "      <td>NaN</td>\n",
              "      <td>Sumida Ku</td>\n",
              "      <td>35.731955</td>\n",
              "      <td>139.819147</td>\n",
              "      <td>Entire home/apt</td>\n",
              "      <td>14429</td>\n",
              "      <td>1</td>\n",
              "      <td>0</td>\n",
              "      <td>NaT</td>\n",
              "      <td>NaN</td>\n",
              "      <td>31</td>\n",
              "      <td>174</td>\n",
              "      <td>0</td>\n",
              "      <td>Hotels and Inns Business Act | 墨田区保健所 | 3墨福衛生環...</td>\n",
              "    </tr>\n",
              "    <tr>\n",
              "      <th>10667</th>\n",
              "      <td>52497968</td>\n",
              "      <td>【学生限定　男子専用】☆通学ラクラク～自宅とホステルの2拠点生活！気軽に１人暮らし体験！？ベッド②</td>\n",
              "      <td>147279325</td>\n",
              "      <td>Khaosan World Asakusa Ryokan&amp;Hostel</td>\n",
              "      <td>NaN</td>\n",
              "      <td>Taito Ku</td>\n",
              "      <td>35.715706</td>\n",
              "      <td>139.791221</td>\n",
              "      <td>Shared room</td>\n",
              "      <td>1200</td>\n",
              "      <td>1</td>\n",
              "      <td>0</td>\n",
              "      <td>NaT</td>\n",
              "      <td>NaN</td>\n",
              "      <td>15</td>\n",
              "      <td>90</td>\n",
              "      <td>0</td>\n",
              "      <td>Hotels and Inns Business Act | 東京都台東区台東保健所 | 2...</td>\n",
              "    </tr>\n",
              "    <tr>\n",
              "      <th>10668</th>\n",
              "      <td>52498653</td>\n",
              "      <td>【学生限定　女子専用】☆通学ラクラク～自宅とホステルの2拠点生活！気軽に１人暮らし体験！？ベッド②</td>\n",
              "      <td>147279325</td>\n",
              "      <td>Khaosan World Asakusa Ryokan&amp;Hostel</td>\n",
              "      <td>NaN</td>\n",
              "      <td>Taito Ku</td>\n",
              "      <td>35.714026</td>\n",
              "      <td>139.790688</td>\n",
              "      <td>Shared room</td>\n",
              "      <td>1200</td>\n",
              "      <td>1</td>\n",
              "      <td>0</td>\n",
              "      <td>NaT</td>\n",
              "      <td>NaN</td>\n",
              "      <td>15</td>\n",
              "      <td>90</td>\n",
              "      <td>0</td>\n",
              "      <td>Hotels and Inns Business Act | 東京都台東区台東保健所 |  ...</td>\n",
              "    </tr>\n",
              "    <tr>\n",
              "      <th>10669</th>\n",
              "      <td>52499934</td>\n",
              "      <td>新御徒町徒步5分钟#秋叶原车站#艺术感十足房#机场直达45分#免费Wi-Fi</td>\n",
              "      <td>287778251</td>\n",
              "      <td>Hasegawa</td>\n",
              "      <td>NaN</td>\n",
              "      <td>Taito Ku</td>\n",
              "      <td>35.704133</td>\n",
              "      <td>139.783314</td>\n",
              "      <td>Private room</td>\n",
              "      <td>3100</td>\n",
              "      <td>1</td>\n",
              "      <td>0</td>\n",
              "      <td>NaT</td>\n",
              "      <td>NaN</td>\n",
              "      <td>10</td>\n",
              "      <td>359</td>\n",
              "      <td>0</td>\n",
              "      <td>M130017605</td>\n",
              "    </tr>\n",
              "  </tbody>\n",
              "</table>\n",
              "</div>"
            ],
            "text/plain": [
              "             id  ...                                            license\n",
              "10665  52486420  ...  Hotels and Inns Business Act | 新宿区保健所 | 2新保衛環第94号\n",
              "10666  52497948  ...  Hotels and Inns Business Act | 墨田区保健所 | 3墨福衛生環...\n",
              "10667  52497968  ...  Hotels and Inns Business Act | 東京都台東区台東保健所 | 2...\n",
              "10668  52498653  ...  Hotels and Inns Business Act | 東京都台東区台東保健所 |  ...\n",
              "10669  52499934  ...                                         M130017605\n",
              "\n",
              "[5 rows x 18 columns]"
            ]
          },
          "metadata": {},
          "execution_count": 39
        }
      ]
    },
    {
      "cell_type": "markdown",
      "metadata": {
        "id": "8W7yrfqcW0IU"
      },
      "source": [
        "### Seleção das features de interesse\n",
        "Afim de filtrar as features que nos interessa, por não ser tão compreensivel ler nomes em japonês, descartamos:\n",
        "- `license`;\n",
        "- `host_name`;\n",
        "- `name`.\n",
        "\n",
        "Aproveitando também para passar os valores de `price` de ienes para reais, no presente dia que desenvolvo esse projeto temos que 1 iene = 0,049 real, dessa forma temos"
      ]
    },
    {
      "cell_type": "code",
      "metadata": {
        "id": "R9T_uQFNUdv9"
      },
      "source": [
        "# criar uma cópia do dataframe\n",
        "df = airbnb.copy()\n",
        "\n",
        "# removendo as features que não nos interessa\n",
        "df.drop(['license', 'host_name','name'],\n",
        "        axis = 1,\n",
        "        inplace = True)\n",
        "\n",
        "# conversão da moeda de ienes para reais\n",
        "iene_em_reais = 0.049\n",
        "df.price = df.price * iene_em_reais"
      ],
      "execution_count": 41,
      "outputs": []
    },
    {
      "cell_type": "markdown",
      "metadata": {
        "id": "2gxdnQXFfk9K"
      },
      "source": [
        "##**Análise dos Dados**\n",
        "O presente *dataset* é uma versão resumida fornecida pelo Airbnb, no mesmo portal onde foi obtido os dados há uma versão com muito mais features."
      ]
    },
    {
      "cell_type": "markdown",
      "metadata": {
        "id": "OatmrfgPZrTt"
      },
      "source": [
        "###**Q1. Quantos atributos (variáveis) e quantas entradas o nosso conjunto de dados possui? Quais os tipos das variáveis?**\n",
        "O atual possui 15 variáveis (lembrando que removemos 3 delas por questão de escopo do projeto) com 10670 entradas, também temos os tipos das variáveis."
      ]
    },
    {
      "cell_type": "code",
      "metadata": {
        "id": "t0jmuZ54Y7fe",
        "outputId": "2d74218d-c601-4556-eb96-4b4638f46d82",
        "colab": {
          "base_uri": "https://localhost:8080/"
        }
      },
      "source": [
        "# imprimir a quantidade de entradas e de variáveis\n",
        "print(f'Entradas: {df.shape[0]}\\nVariáveis: {df.shape[1]}\\n')\n",
        "\n",
        "# mostrando o tipo de cada variável\n",
        "df.dtypes"
      ],
      "execution_count": 42,
      "outputs": [
        {
          "output_type": "stream",
          "name": "stdout",
          "text": [
            "Entradas: 10670\n",
            "Variáveis: 15\n",
            "\n"
          ]
        },
        {
          "output_type": "execute_result",
          "data": {
            "text/plain": [
              "id                                         int64\n",
              "host_id                                    int64\n",
              "neighbourhood_group                      float64\n",
              "neighbourhood                             object\n",
              "latitude                                 float64\n",
              "longitude                                float64\n",
              "room_type                                 object\n",
              "price                                    float64\n",
              "minimum_nights                             int64\n",
              "number_of_reviews                          int64\n",
              "last_review                       datetime64[ns]\n",
              "reviews_per_month                        float64\n",
              "calculated_host_listings_count             int64\n",
              "availability_365                           int64\n",
              "number_of_reviews_ltm                      int64\n",
              "dtype: object"
            ]
          },
          "metadata": {},
          "execution_count": 42
        }
      ]
    },
    {
      "cell_type": "markdown",
      "metadata": {
        "id": "yGfx9i-CiWoA"
      },
      "source": [
        "###**Q2. Qual a porcentagem de valores ausentes no dataset?**\n",
        "A respeito de dados ausentes temos:\n",
        "- `neighbourhood_group` está completamente vazia, dessa forma podemos remove-lá;\n",
        "- `last_review` e `reviews_per_month` essa duas features com o mesmo valor, o que é esperado, uma vez que uma feature depende da outra, quanto ao percentual de dados ausente não é um problema pois é um comportamento normal, uma vez que é possível concluir uma transação sem dar uma avaliação"
      ]
    },
    {
      "cell_type": "code",
      "metadata": {
        "id": "S9z-4P4pgjv3",
        "outputId": "58c23172-52a5-46fa-aeb8-b24ff36d70b1",
        "colab": {
          "base_uri": "https://localhost:8080/"
        }
      },
      "source": [
        "(df.isnull().sum()/airbnb.shape[0] * 100).sort_values(ascending=False)"
      ],
      "execution_count": 43,
      "outputs": [
        {
          "output_type": "execute_result",
          "data": {
            "text/plain": [
              "neighbourhood_group               100.000000\n",
              "reviews_per_month                  19.568885\n",
              "last_review                        19.568885\n",
              "number_of_reviews_ltm               0.000000\n",
              "availability_365                    0.000000\n",
              "calculated_host_listings_count      0.000000\n",
              "number_of_reviews                   0.000000\n",
              "minimum_nights                      0.000000\n",
              "price                               0.000000\n",
              "room_type                           0.000000\n",
              "longitude                           0.000000\n",
              "latitude                            0.000000\n",
              "neighbourhood                       0.000000\n",
              "host_id                             0.000000\n",
              "id                                  0.000000\n",
              "dtype: float64"
            ]
          },
          "metadata": {},
          "execution_count": 43
        }
      ]
    },
    {
      "cell_type": "code",
      "metadata": {
        "id": "YkxM9QWzib94"
      },
      "source": [
        "# removendo a variável 'neighbourhood_group'\n",
        "df.drop(['neighbourhood_group'],\n",
        "        axis = 1,\n",
        "        inplace = True)"
      ],
      "execution_count": 44,
      "outputs": []
    },
    {
      "cell_type": "markdown",
      "metadata": {
        "id": "YFkH0StRklCR"
      },
      "source": [
        "### **Q3. Qual o tipo de distribuição das variáveis?** \n",
        "Aqui temos somente a variável `availability_365` com uma maior dispersão, as de mais mostra que temos um valor alvo, mas isso se dá em razão de valores muitos altos em nossa amostra, como por exemplo em `price`, `minimum_nights`, as de mais é esperado que tenha valores altos como o número de reviews e suas variantes\n"
      ]
    },
    {
      "cell_type": "code",
      "metadata": {
        "id": "9u1uAZE_kzDo",
        "outputId": "04f9ebab-51ea-4cd3-e453-f685bf3df4f8",
        "colab": {
          "base_uri": "https://localhost:8080/",
          "height": 716
        }
      },
      "source": [
        "df[['latitude','longitude', 'price', 'minimum_nights', 'number_of_reviews', 'reviews_per_month', 'calculated_host_listings_count','availability_365','number_of_reviews_ltm']].hist(color = '#db0c26',figsize=(16,12));"
      ],
      "execution_count": 85,
      "outputs": [
        {
          "output_type": "display_data",
          "data": {
            "image/png": "[encoded data removed]",
            "text/plain": [
              "<Figure size 1152x864 with 9 Axes>"
            ]
          },
          "metadata": {
            "needs_background": "light"
          }
        }
      ]
    },
    {
      "cell_type": "markdown",
      "metadata": {
        "id": "5umPDd4Nzy8u"
      },
      "source": [
        "### **Q4. Há *outliers* presentes?**\n",
        "Por não seguir uma distribuição, há indícios de presença de *outliers* em `price` e `mininum_nights`, vamos conferir algumas medidas estatísticas dessas variáveis"
      ]
    },
    {
      "cell_type": "code",
      "metadata": {
        "id": "RUzQp6ttkzVC",
        "outputId": "2bc11e93-d3c7-42f0-8817-387db126860b",
        "colab": {
          "base_uri": "https://localhost:8080/",
          "height": 297
        }
      },
      "source": [
        "# resumo estatístico das varíaveis de interesse\n",
        "df[['price','minimum_nights']].describe()"
      ],
      "execution_count": 89,
      "outputs": [
        {
          "output_type": "execute_result",
          "data": {
            "text/html": [
              "<div>\n",
              "<style scoped>\n",
              "    .dataframe tbody tr th:only-of-type {\n",
              "        vertical-align: middle;\n",
              "    }\n",
              "\n",
              "    .dataframe tbody tr th {\n",
              "        vertical-align: top;\n",
              "    }\n",
              "\n",
              "    .dataframe thead th {\n",
              "        text-align: right;\n",
              "    }\n",
              "</style>\n",
              "<table border=\"1\" class=\"dataframe\">\n",
              "  <thead>\n",
              "    <tr style=\"text-align: right;\">\n",
              "      <th></th>\n",
              "      <th>price</th>\n",
              "      <th>minimum_nights</th>\n",
              "    </tr>\n",
              "  </thead>\n",
              "  <tbody>\n",
              "    <tr>\n",
              "      <th>count</th>\n",
              "      <td>10670.000000</td>\n",
              "      <td>10670.000000</td>\n",
              "    </tr>\n",
              "    <tr>\n",
              "      <th>mean</th>\n",
              "      <td>627.875837</td>\n",
              "      <td>3.594283</td>\n",
              "    </tr>\n",
              "    <tr>\n",
              "      <th>std</th>\n",
              "      <td>2078.308955</td>\n",
              "      <td>24.674502</td>\n",
              "    </tr>\n",
              "    <tr>\n",
              "      <th>min</th>\n",
              "      <td>0.000000</td>\n",
              "      <td>1.000000</td>\n",
              "    </tr>\n",
              "    <tr>\n",
              "      <th>25%</th>\n",
              "      <td>208.593000</td>\n",
              "      <td>1.000000</td>\n",
              "    </tr>\n",
              "    <tr>\n",
              "      <th>50%</th>\n",
              "      <td>343.000000</td>\n",
              "      <td>1.000000</td>\n",
              "    </tr>\n",
              "    <tr>\n",
              "      <th>75%</th>\n",
              "      <td>606.399500</td>\n",
              "      <td>2.000000</td>\n",
              "    </tr>\n",
              "    <tr>\n",
              "      <th>max</th>\n",
              "      <td>107065.000000</td>\n",
              "      <td>999.000000</td>\n",
              "    </tr>\n",
              "  </tbody>\n",
              "</table>\n",
              "</div>"
            ],
            "text/plain": [
              "               price  minimum_nights\n",
              "count   10670.000000    10670.000000\n",
              "mean      627.875837        3.594283\n",
              "std      2078.308955       24.674502\n",
              "min         0.000000        1.000000\n",
              "25%       208.593000        1.000000\n",
              "50%       343.000000        1.000000\n",
              "75%       606.399500        2.000000\n",
              "max    107065.000000      999.000000"
            ]
          },
          "metadata": {},
          "execution_count": 89
        }
      ]
    },
    {
      "cell_type": "markdown",
      "metadata": {
        "id": "PVa_XrC61TF5"
      },
      "source": [
        "Com base no resumo estatístico, temos que:\n",
        "- a variável `price` possui 75% dos dados abaixo de 606,40 e o valor máximo chega 107065,00;\n",
        "- quanto a variável `minimum_nights` temos valores acima de 365 dias no ano, sendo que 75% dos dados está baixo de 2."
      ]
    },
    {
      "cell_type": "code",
      "metadata": {
        "id": "uXKKaN3y0XlF",
        "outputId": "e80c00c9-d172-45b4-a717-eb0a6944e0c2",
        "colab": {
          "base_uri": "https://localhost:8080/",
          "height": 488
        }
      },
      "source": [
        "# price\n",
        "df.price.plot.box(vert=False, figsize = (15,3));\n",
        "plt.title('Boxplot de price')\n",
        "plt.show()\n",
        "\n",
        "# ver quantidade de valores acima de 1500 para price\n",
        "valor_corte_price = 2500\n",
        "print(f'''\\nValores acima de {valor_corte_price} da variável price temos {len(df[df.price > valor_corte_price])} entradas, que correspondem {((len(df[df.price > valor_corte_price]) / df.shape[0])):.2%} do nosso dataset\\n''')\n",
        "\n",
        "df.price[df.price <= valor_corte_price].plot.box(vert=False, figsize = (15,3));\n",
        "plt.title(f'Boxplot de price removendo valores acima de {valor_corte_price}')\n",
        "plt.show()\n",
        "# df.price.plot(kind='box', vert=False, xlim=(0,1300), figsize=(15,3));"
      ],
      "execution_count": 118,
      "outputs": [
        {
          "output_type": "display_data",
          "data": {
            "image/png": "[encoded data removed]",
            "text/plain": [
              "<Figure size 1080x216 with 1 Axes>"
            ]
          },
          "metadata": {
            "needs_background": "light"
          }
        },
        {
          "output_type": "stream",
          "name": "stdout",
          "text": [
            "\n",
            "Valores acima de 2500 da variável price temos 208 entradas, que correspondem 1.95% do nosso dataset\n",
            "\n"
          ]
        },
        {
          "output_type": "display_data",
          "data": {
            "image/png": "[encoded data removed]",
            "text/plain": [
              "<Figure size 1080x216 with 1 Axes>"
            ]
          },
          "metadata": {
            "needs_background": "light"
          }
        }
      ]
    },
    {
      "cell_type": "code",
      "metadata": {
        "id": "aejqy0401jgd",
        "outputId": "b4692544-9b64-41ca-8382-ac37eb037694",
        "colab": {
          "base_uri": "https://localhost:8080/",
          "height": 488
        }
      },
      "source": [
        "# minimum_nights\n",
        "df.minimum_nights.plot.box(vert=False, figsize = (15,3));\n",
        "plt.title('Boxplot de minimum_nights')\n",
        "plt.show()\n",
        "\n",
        "# ver quantidade de valores acima de 30 dias para minimum_nights\n",
        "valor_corte_nights = 30\n",
        "print(f'''\\nPara valores acima de {valor_corte_nights} dias da variável minimum_nights temos {len(df[df.minimum_nights > valor_corte_nights])} entradas, que correspondem {((len(df[df.minimum_nights > valor_corte_nights]) / df.shape[0])):.2%} do nosso dataset\\n''')\n",
        "\n",
        "\n",
        "df.minimum_nights[df.minimum_nights <= valor_corte_nights].plot.box(vert=False, figsize = (15,3));\n",
        "plt.title(f'Boxplot de minimum_nights com valores abaixo de {valor_corte_nights} dias')\n",
        "plt.show()"
      ],
      "execution_count": 141,
      "outputs": [
        {
          "output_type": "display_data",
          "data": {
            "image/png": "[encoded data removed]",
            "text/plain": [
              "<Figure size 1080x216 with 1 Axes>"
            ]
          },
          "metadata": {
            "needs_background": "light"
          }
        },
        {
          "output_type": "stream",
          "name": "stdout",
          "text": [
            "\n",
            "Para valores acima de 30 dias da variável minimum_nights temos 56 entradas, que correspondem 0.52% do nosso dataset\n",
            "\n"
          ]
        },
        {
          "output_type": "display_data",
          "data": {
            "image/png": "[encoded data removed]",
            "text/plain": [
              "<Figure size 1080x216 with 1 Axes>"
            ]
          },
          "metadata": {
            "needs_background": "light"
          }
        }
      ]
    },
    {
      "cell_type": "code",
      "metadata": {
        "id": "6_rEvX634hnj"
      },
      "source": [
        "df_clean = df.query('price <= @valor_corte_price and minimum_nights <= @valor_corte_nights').copy()"
      ],
      "execution_count": 143,
      "outputs": []
    },
    {
      "cell_type": "code",
      "metadata": {
        "id": "ImjCcPKe94vu",
        "outputId": "7ac484a9-431f-4d48-aeae-a9a2d45b2172",
        "colab": {
          "base_uri": "https://localhost:8080/",
          "height": 716
        }
      },
      "source": [
        "df_clean[['latitude','longitude', 'price', 'minimum_nights', 'number_of_reviews', 'reviews_per_month', 'calculated_host_listings_count','availability_365','number_of_reviews_ltm']].hist(color = '#db0c26',figsize=(16,12));"
      ],
      "execution_count": 144,
      "outputs": [
        {
          "output_type": "display_data",
          "data": {
            "image/png": "[encoded data removed]",
            "text/plain": [
              "<Figure size 1152x864 with 9 Axes>"
            ]
          },
          "metadata": {
            "needs_background": "light"
          }
        }
      ]
    },
    {
      "cell_type": "code",
      "metadata": {
        "id": "OjoZwbXB_cZ_",
        "outputId": "e143acbe-598b-48a5-92bf-7021b5d171d8",
        "colab": {
          "base_uri": "https://localhost:8080/"
        }
      },
      "source": [
        "df_clean.groupby(['neighbourhood'])['price'].mean().sort_values(ascending=False)"
      ],
      "execution_count": 161,
      "outputs": [
        {
          "output_type": "execute_result",
          "data": {
            "text/plain": [
              "neighbourhood\n",
              "Komae Shi              839.823250\n",
              "Kodaira Shi            819.113400\n",
              "Minato Ku              728.489376\n",
              "Chiyoda Ku             716.696740\n",
              "Mitaka Shi             682.400727\n",
              "Musashino Shi          592.671333\n",
              "Shibuya Ku             558.481449\n",
              "Chofu Shi              544.906385\n",
              "Taito Ku               528.179508\n",
              "Meguro Ku              524.932545\n",
              "Nishitokyo Shi         494.174188\n",
              "Shinagawa Ku           485.304167\n",
              "Shinjuku Ku            475.556712\n",
              "Koganei Shi            463.270500\n",
              "Ome Shi                458.333750\n",
              "Edogawa Ku             457.732349\n",
              "Arakawa Ku             456.897753\n",
              "Katsushika Ku          448.430249\n",
              "Nakano Ku              447.842868\n",
              "Toshima Ku             443.038916\n",
              "Suginami Ku            439.081687\n",
              "Koto Ku                438.699945\n",
              "Setagaya Ku            434.760724\n",
              "Kita Ku                432.295678\n",
              "Itabashi Ku            418.577540\n",
              "Okutama Machi          416.990000\n",
              "Chuo Ku                416.196270\n",
              "Sumida Ku              411.275490\n",
              "Adachi Ku              411.143845\n",
              "Ota Ku                 410.175052\n",
              "Hachioji Shi           385.470029\n",
              "Bunkyo Ku              378.567737\n",
              "Nerima Ku              375.056780\n",
              "Hamura Shi             298.924500\n",
              "Tama Shi               297.642333\n",
              "Tachikawa Shi          290.962000\n",
              "Kokubunji Shi          290.504667\n",
              "Higashimurayama Shi    288.126125\n",
              "Machida Shi            278.567882\n",
              "Akiruno Shi            257.021333\n",
              "Hino Shi               249.665208\n",
              "Fuchu Shi              248.087000\n",
              "Hinohara Mura          245.000000\n",
              "Higashikurume Shi      210.700000\n",
              "Kunitachi Shi          198.800000\n",
              "Akishima Shi           188.846000\n",
              "Musashimurayama Shi    147.000000\n",
              "Inagi Shi               88.200000\n",
              "Name: price, dtype: float64"
            ]
          },
          "metadata": {},
          "execution_count": 161
        }
      ]
    },
    {
      "cell_type": "code",
      "metadata": {
        "id": "GJmYI2rT-Of6",
        "outputId": "c9782af0-dc3b-4456-eeca-c4a3158869c3",
        "colab": {
          "base_uri": "https://localhost:8080/",
          "height": 235
        }
      },
      "source": [
        "# criar uma matriz de correlação\n",
        "corr = df_clean.query('neighbourhood == \"Kodaira Shi\"')[['price','minimum_nights','number_of_reviews','reviews_per_month','calculated_host_listings_count','availability_365']].corr()\n",
        "\n",
        "display(corr)"
      ],
      "execution_count": 171,
      "outputs": [
        {
          "output_type": "display_data",
          "data": {
            "text/html": [
              "<div>\n",
              "<style scoped>\n",
              "    .dataframe tbody tr th:only-of-type {\n",
              "        vertical-align: middle;\n",
              "    }\n",
              "\n",
              "    .dataframe tbody tr th {\n",
              "        vertical-align: top;\n",
              "    }\n",
              "\n",
              "    .dataframe thead th {\n",
              "        text-align: right;\n",
              "    }\n",
              "</style>\n",
              "<table border=\"1\" class=\"dataframe\">\n",
              "  <thead>\n",
              "    <tr style=\"text-align: right;\">\n",
              "      <th></th>\n",
              "      <th>price</th>\n",
              "      <th>minimum_nights</th>\n",
              "      <th>number_of_reviews</th>\n",
              "      <th>reviews_per_month</th>\n",
              "      <th>calculated_host_listings_count</th>\n",
              "      <th>availability_365</th>\n",
              "    </tr>\n",
              "  </thead>\n",
              "  <tbody>\n",
              "    <tr>\n",
              "      <th>price</th>\n",
              "      <td>1.000000</td>\n",
              "      <td>-0.507091</td>\n",
              "      <td>-0.357501</td>\n",
              "      <td>-0.248403</td>\n",
              "      <td>-0.296468</td>\n",
              "      <td>-0.113759</td>\n",
              "    </tr>\n",
              "    <tr>\n",
              "      <th>minimum_nights</th>\n",
              "      <td>-0.507091</td>\n",
              "      <td>1.000000</td>\n",
              "      <td>0.968635</td>\n",
              "      <td>0.840092</td>\n",
              "      <td>-0.375000</td>\n",
              "      <td>-0.721551</td>\n",
              "    </tr>\n",
              "    <tr>\n",
              "      <th>number_of_reviews</th>\n",
              "      <td>-0.357501</td>\n",
              "      <td>0.968635</td>\n",
              "      <td>1.000000</td>\n",
              "      <td>0.825608</td>\n",
              "      <td>-0.479425</td>\n",
              "      <td>-0.773175</td>\n",
              "    </tr>\n",
              "    <tr>\n",
              "      <th>reviews_per_month</th>\n",
              "      <td>-0.248403</td>\n",
              "      <td>0.840092</td>\n",
              "      <td>0.825608</td>\n",
              "      <td>1.000000</td>\n",
              "      <td>-0.769792</td>\n",
              "      <td>-0.927199</td>\n",
              "    </tr>\n",
              "    <tr>\n",
              "      <th>calculated_host_listings_count</th>\n",
              "      <td>-0.296468</td>\n",
              "      <td>-0.375000</td>\n",
              "      <td>-0.479425</td>\n",
              "      <td>-0.769792</td>\n",
              "      <td>1.000000</td>\n",
              "      <td>0.868938</td>\n",
              "    </tr>\n",
              "    <tr>\n",
              "      <th>availability_365</th>\n",
              "      <td>-0.113759</td>\n",
              "      <td>-0.721551</td>\n",
              "      <td>-0.773175</td>\n",
              "      <td>-0.927199</td>\n",
              "      <td>0.868938</td>\n",
              "      <td>1.000000</td>\n",
              "    </tr>\n",
              "  </tbody>\n",
              "</table>\n",
              "</div>"
            ],
            "text/plain": [
              "                                   price  ...  availability_365\n",
              "price                           1.000000  ...         -0.113759\n",
              "minimum_nights                 -0.507091  ...         -0.721551\n",
              "number_of_reviews              -0.357501  ...         -0.773175\n",
              "reviews_per_month              -0.248403  ...         -0.927199\n",
              "calculated_host_listings_count -0.296468  ...          0.868938\n",
              "availability_365               -0.113759  ...          1.000000\n",
              "\n",
              "[6 rows x 6 columns]"
            ]
          },
          "metadata": {}
        }
      ]
    },
    {
      "cell_type": "code",
      "metadata": {
        "id": "KY9SUy75_Kc-",
        "outputId": "5d184762-b418-47c3-8d5d-b8306735a606",
        "colab": {
          "base_uri": "https://localhost:8080/",
          "height": 411
        }
      },
      "source": [
        "sns.heatmap(corr, cmap = 'RdBu', fmt='.2f', square=True, linecolor='white');"
      ],
      "execution_count": 172,
      "outputs": [
        {
          "output_type": "display_data",
          "data": {
            "image/png": "[encoded data removed]",
            "text/plain": [
              "<Figure size 432x288 with 2 Axes>"
            ]
          },
          "metadata": {
            "needs_background": "light"
          }
        }
      ]
    },
    {
      "cell_type": "code",
      "metadata": {
        "id": "dHDq-Ie7_OlP"
      },
      "source": [
        ""
      ],
      "execution_count": null,
      "outputs": []
    }
  ]
}