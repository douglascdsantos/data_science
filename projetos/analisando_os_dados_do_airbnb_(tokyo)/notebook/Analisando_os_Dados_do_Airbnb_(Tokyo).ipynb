{
  "nbformat": 4,
  "nbformat_minor": 0,
  "metadata": {
    "colab": {
      "name": "Analisando os Dados do Airbnb (Tokyo).ipynb",
      "provenance": [],
      "authorship_tag": "ABX9TyNj/Dl4B+LDCw7hoOgc3u+2",
      "include_colab_link": true
    },
    "kernelspec": {
      "name": "python3",
      "display_name": "Python 3"
    },
    "language_info": {
      "name": "python"
    }
  },
  "cells": [
    {
      "cell_type": "markdown",
      "metadata": {
        "id": "view-in-github",
        "colab_type": "text"
      },
      "source": [
        "<a href=\"https://colab.research.google.com/github/douglascdsantos/data_science/blob/main/projetos/analisando_os_dados_do_airbnb_(tokyo)/notebook/Analisando_os_Dados_do_Airbnb_(Tokyo).ipynb\" target=\"_parent\"><img src=\"https://colab.research.google.com/assets/colab-badge.svg\" alt=\"Open In Colab\"/></a>"
      ]
    },
    {
      "cell_type": "markdown",
      "metadata": {
        "id": "sVz6hwDcssVC"
      },
      "source": [
        "# Análisedos dados do Airbnb da cidade de Tokyo\n",
        "\n",
        "O [Airbnb](https://www.airbnb.com) nasceu em 2008 conectando pessoas que pussuiam quartos ociosos em suas casas com pessoas que precisavam de acomodação temporária, hoje em dia é possível um comodo ou o imóvel todo e eles não trabalham somente com acomodação, mas também com um experiência online - um ótimo serviço em tempos de reclusão e isolamento por sinal.\n",
        "\n",
        "O Airbnb consegue estar presente em mais de 100.000 cidades do mundo inteiro **sem ter nenhum hotel**, nesse modelo de negocios temos uma geração de dados muito grande a qual é disponibilizada por meio do Inside [Airbnb](http://insideairbnb.com/index.html), dentro do portal temos a diversas opção de cidades pelo mundo e varias tipos de dados da mesma cidade, no presente estudo optamos pela escolha da cidade de Tokyo."
      ]
    },
    {
      "cell_type": "markdown",
      "metadata": {
        "id": "Snbu-fIzyqAh"
      },
      "source": [
        "## Objetivos\n",
        "\n",
        "Nesta análise espera-se responder questões como:\n",
        "\n",
        "- Quantos atributos (variáveis) e quantas entradas o nosso conjunto de dados possui? Quais os tipos das variáveis?\n",
        "- Qual a porcentagem de valores ausentes no dataset?\n",
        "- Qual o tipo de distribuição das variáveis?\n",
        "- Há outliers presentes?\n",
        "- Qual a correlação existente entre as variáveis\n",
        "- Qual o tipo de imóvel mais alugado no Airbnb?\n",
        "- Qual a localidade mais cara de Tokyo?\n",
        "\n",
        "E as de mais que aparecerem durante o desenvolvimento do projeto."
      ]
    },
    {
      "cell_type": "markdown",
      "metadata": {
        "id": "akRYR86Cz_YJ"
      },
      "source": [
        "## Obtenção dos dados\n",
        "Os dados utilizados estão disponiveis no portal [Inside Airbnb](http://insideairbnb.com/), basta procurar por `Tokyo`, a data de compilação do arquivo estava como 29 de setembro de 2021, para evitar alteração do arquivo, caso o arquivo viesse direito do portal, durante o desenvolvimento do projeto o aquivo foi carregado no GitHub, e pode se encontrado neste link.\n",
        "Iremos utilizar o seguinte arquivo para nossa análise exploratória:\n",
        "- `listings.csv` - *Summary information and metrics for listings in Tokyo (good for visualisations)*.\n",
        "\n",
        "Dessa forma podemos iniciar."
      ]
    },
    {
      "cell_type": "code",
      "metadata": {
        "id": "UfAO_cPDkrXR"
      },
      "source": [
        "# importar os pacotes necessarios\n",
        "import pandas as pd\n",
        "import matplotlib.pyplot as plt\n",
        "import seaborn as sns\n",
        "\n",
        "%matplotlib inline"
      ],
      "execution_count": 4,
      "outputs": []
    },
    {
      "cell_type": "code",
      "metadata": {
        "id": "EVXXG6bblJul"
      },
      "source": [
        "url = '/content/listings.csv'\n",
        "airbnb = pd.read_csv(url,\n",
        "                     parse_dates = ['last_review'])"
      ],
      "execution_count": 9,
      "outputs": []
    },
    {
      "cell_type": "markdown",
      "metadata": {
        "id": "W9XooEza34QZ"
      },
      "source": [
        "## Análise dos dados\n",
        "Inicialmente vamos começar a ter contato com os dados, dessa forma vamos listar as features (colunas) e qual o seu significado\n",
        "\n",
        "### Dicionário das Variáveis\n",
        "- `id`: númuero único que identifica o imóvel;\n",
        "- `name`: nome da propriedade;\n",
        "- `host_id`: nome do proprietário (locador) do imóvel;\n",
        "- `neighbourhood_group`: grupo do bairro;\n",
        "- `neighbourhood`: bairro;\n",
        "- `latitude`: coordenada de latitude da localização;\n",
        "- `longitude`: coordenada de longitude da localização;\n",
        "- `room_type`: tipo do quarto do anúncio;\n",
        "- `price`: preço do aluguel;\n",
        "- `minimum_nights`: quantidade minima de noite p;\n",
        "- ``: ;\n",
        "- ``: ;\n",
        "- ``: ;"
      ]
    },
    {
      "cell_type": "code",
      "metadata": {
        "colab": {
          "base_uri": "https://localhost:8080/"
        },
        "id": "L7dLF0e3lQ2C",
        "outputId": "b1c1faf8-0cf1-4236-e495-947e9d69a361"
      },
      "source": [
        "airbnb.keys()"
      ],
      "execution_count": 12,
      "outputs": [
        {
          "output_type": "execute_result",
          "data": {
            "text/plain": [
              "Index(['id', 'name', 'host_id', 'host_name', 'neighbourhood_group',\n",
              "       'neighbourhood', 'latitude', 'longitude', 'room_type', 'price',\n",
              "       'minimum_nights', 'number_of_reviews', 'last_review',\n",
              "       'reviews_per_month', 'calculated_host_listings_count',\n",
              "       'availability_365', 'number_of_reviews_ltm', 'license'],\n",
              "      dtype='object')"
            ]
          },
          "metadata": {},
          "execution_count": 12
        }
      ]
    },
    {
      "cell_type": "code",
      "metadata": {
        "id": "lJj0Wgaa4e2C"
      },
      "source": [
        ""
      ],
      "execution_count": null,
      "outputs": []
    }
  ]
}