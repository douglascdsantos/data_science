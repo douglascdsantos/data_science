{
  "nbformat": 4,
  "nbformat_minor": 0,
  "metadata": {
    "colab": {
      "name": "Lista_de_Exercícios_02.ipynb",
      "provenance": [],
      "toc_visible": true,
      "include_colab_link": true
    },
    "kernelspec": {
      "display_name": "Python 3",
      "language": "python",
      "name": "python3"
    },
    "language_info": {
      "codemirror_mode": {
        "name": "ipython",
        "version": 3
      },
      "file_extension": ".py",
      "mimetype": "text/x-python",
      "name": "python",
      "nbconvert_exporter": "python",
      "pygments_lexer": "ipython3",
      "version": "3.8.8"
    }
  },
  "cells": [
    {
      "cell_type": "markdown",
      "metadata": {
        "id": "view-in-github",
        "colab_type": "text"
      },
      "source": [
        "<a href=\"https://colab.research.google.com/github/douglascdsantos/data_science/blob/main/Lista_de_Exerc%C3%ADcios_02.ipynb\" target=\"_parent\"><img src=\"https://colab.research.google.com/assets/colab-badge.svg\" alt=\"Open In Colab\"/></a>"
      ]
    },
    {
      "cell_type": "markdown",
      "metadata": {
        "id": "4R6_K6MxZ14p"
      },
      "source": [
        "#Lista de Exercícios 02\n",
        "Discente: Douglas Camargo dos Santos"
      ]
    },
    {
      "cell_type": "markdown",
      "metadata": {
        "id": "xJJMVdXZhVJO"
      },
      "source": [
        "## Exercício 01 (e)\n",
        "<center><img width=\"70%\" src=\"https://cdn.loom.com/images/originals/0c12c32bc01a480daf5275470c6b3961.jpg?Expires=1637316518&Policy=eyJTdGF0ZW1lbnQiOlt7IlJlc291cmNlIjoiaHR0cHM6Ly9jZG4ubG9vbS5jb20vaW1hZ2VzL29yaWdpbmFscy8wYzEyYzMyYmMwMWE0ODBkYWY1Mjc1NDcwYzZiMzk2MS5qcGciLCJDb25kaXRpb24iOnsiRGF0ZUxlc3NUaGFuIjp7IkFXUzpFcG9jaFRpbWUiOjE2MzczMTY1MTh9fX1dfQ__&Signature=k0hDqXc2D6i6F6JhIx5JGplOfiWORXt~4hJ9IFgLTv4VNzgVrdKR0Ote1SbFcPtHt6KvllVKulSveu18A7IQ85ztq0TCLKCDRMUqx546fgNgzKHmYJGto8REg33-eX3yUkeLRyU2~yLvFcHwLk14j~KRuToJGPptQ-6COlM24Z~pzwx27AtsM21EXq2x7iTkw-TqDEdfaJVuhRZ6Qr-1ifJRCVxr5U8kE~KXZQcunCPsTRFdohagzEpRIcWxt4l98TyjoNo~kWLrOnlQ8f37CbWzx1HvpM7EiD~XBdVxDxsqA4M8wHOAo8hBHNEDes4nlrq88sA6UeDLFSErGaSRwQ__&Key-Pair-Id=APKAJQIC5BGSW7XXK7FQ\"></center>\n",
        "\n",
        "- `x` possui os valores de lista1 elevado ao quadrado [1,3,9,16,25]\n",
        "- `y` possui os valores impares de lista2 [1, 3, 5, 7, 9]"
      ]
    },
    {
      "cell_type": "code",
      "metadata": {
        "colab": {
          "base_uri": "https://localhost:8080/"
        },
        "id": "DHX-xX03gkLl",
        "outputId": "2ff28a41-f26e-4b02-cc2b-10d1c202b86a"
      },
      "source": [
        "lista1 = [1,2,3,4,5]\n",
        "x = [i**2 for i in lista1]\n",
        "lista2 = list(range(1,10))\n",
        "y = [i for i in lista2 if i%2 != 0]\n",
        "print('x: ', x, ' y: ', y)"
      ],
      "execution_count": null,
      "outputs": [
        {
          "name": "stdout",
          "output_type": "stream",
          "text": [
            "x:  [1, 4, 9, 16, 25]  y:  [1, 3, 5, 7, 9]\n"
          ]
        }
      ]
    },
    {
      "cell_type": "markdown",
      "metadata": {
        "id": "v3WqOrSLgyle"
      },
      "source": [
        "## Exercício 02 (a)\n",
        "<center><img width=\"70%\" src=\"https://cdn.loom.com/images/originals/12e658ef63774f1d8762e5f977df21ab.jpg?Expires=1637316962&Policy=eyJTdGF0ZW1lbnQiOlt7IlJlc291cmNlIjoiaHR0cHM6Ly9jZG4ubG9vbS5jb20vaW1hZ2VzL29yaWdpbmFscy8xMmU2NThlZjYzNzc0ZjFkODc2MmU1Zjk3N2RmMjFhYi5qcGciLCJDb25kaXRpb24iOnsiRGF0ZUxlc3NUaGFuIjp7IkFXUzpFcG9jaFRpbWUiOjE2MzczMTY5NjJ9fX1dfQ__&Signature=e7wkXTW5RMCCe-kr3LU0XeP-gnZYaN9802H9zJY6b5euzwsrfgSH1qP-UpUsFRCxFA6uzA7n8A2N0KVLmcztEH6fP0jCZyDO~L8uAFZgcPHth3OHDoify3DV9aE7MkZum0QjsdRk6YbHyeguto1iBzo-6RBz4~rOd5W6jtHPnbIsxX7s54P3GvO0H0KYTF~g0jPH2sNcbke-a4EYGbL2eKUfGcraY14wGME3UP-Zv8iaoQ1IgLX0g4lSdURtI1dxBTIbVo6MIQZ3ybpnqjw9QbV-dXAqpbIr4phZ3CUC9CP5HObh4BLZD2oLFFZ6l4qG1atKeGuXK1i0kijQsd2LAg__&Key-Pair-Id=APKAJQIC5BGSW7XXK7FQ\"></center>\n",
        "\n",
        "- `5.0` é um float\n",
        "- `(5,0)` é uma tupla\n",
        "- `[5]` é uma lista\n",
        "- `5` é um int"
      ]
    },
    {
      "cell_type": "code",
      "metadata": {
        "colab": {
          "base_uri": "https://localhost:8080/"
        },
        "id": "B7QKKGwbhT7U",
        "outputId": "85afa4fa-7575-4808-c445-5b5412151512"
      },
      "source": [
        "x = (5.0)\n",
        "print(type(x))\n",
        "y = (5,0)\n",
        "print(type(y))\n",
        "w = [5]\n",
        "print(type(w))\n",
        "z = (5)\n",
        "print(type(z))"
      ],
      "execution_count": null,
      "outputs": [
        {
          "name": "stdout",
          "output_type": "stream",
          "text": [
            "<class 'float'>\n",
            "<class 'tuple'>\n",
            "<class 'list'>\n",
            "<class 'int'>\n"
          ]
        }
      ]
    },
    {
      "cell_type": "markdown",
      "metadata": {
        "id": "wLE38BB4kqBn"
      },
      "source": [
        "## Exercício 03 (b)\n",
        "<center><img width=\"70%\" src=\"https://cdn.loom.com/images/originals/50af80a912fe46309b5e33699b9d219b.jpg?Expires=1637317395&Policy=eyJTdGF0ZW1lbnQiOlt7IlJlc291cmNlIjoiaHR0cHM6Ly9jZG4ubG9vbS5jb20vaW1hZ2VzL29yaWdpbmFscy81MGFmODBhOTEyZmU0NjMwOWI1ZTMzNjk5YjlkMjE5Yi5qcGciLCJDb25kaXRpb24iOnsiRGF0ZUxlc3NUaGFuIjp7IkFXUzpFcG9jaFRpbWUiOjE2MzczMTczOTV9fX1dfQ__&Signature=rFKYgqZ4Y4tSy2d~dry24sYGfVTXCTZBTojnWqAJdOzgmkpoiM1xdw39VKRldmjix~vxaee4gRhesjUzIiNmHqfE05bQlHYPUvE9FnXSDXQ~vLRk83~uyDkR43rrwwxwSkU7y71MyUSzv51PQqp8dBlsE~fm2d~maCdBZchRffpDOSPZV3z0uDAmFnbE0siu7cNMIAY8Olgx4ut3G7gA4QNLWb-27wESLMYrkj8~ZUFGqkj6~3nypjPoMjvFEI1lRekFlIAJZPUX1UkM93YFmD5-zCqr788RvuT7eiTDQFKmqPZSb0GTFvzRlaNGtTZMZjj0sR2eQqHbWBxHKfqogQ__&Key-Pair-Id=APKAJQIC5BGSW7XXK7FQ\"></center>\n",
        "\n",
        "- primeiro `print` retornará as chaves do dicionário em lista\n",
        "- segundo `print` retornará os valores do dicionário em lista\n",
        "- terceiro `print` retornará cada chave e valor do dicionário em uma tupla dentro de uma lista"
      ]
    },
    {
      "cell_type": "code",
      "metadata": {
        "colab": {
          "base_uri": "https://localhost:8080/"
        },
        "id": "0Rh956Kmj2Ci",
        "outputId": "82e2cd14-44a4-4f48-dd29-107c24d6180c"
      },
      "source": [
        "qtdeProdutos = {'sabao': 57, 'arroz':93, 'feijao':36, 'papel': 217}\n",
        "print(list(qtdeProdutos.keys()))\n",
        "print(list(qtdeProdutos.values()))\n",
        "print(list(qtdeProdutos.items()))"
      ],
      "execution_count": null,
      "outputs": [
        {
          "name": "stdout",
          "output_type": "stream",
          "text": [
            "['sabao', 'arroz', 'feijao', 'papel']\n",
            "[57, 93, 36, 217]\n",
            "[('sabao', 57), ('arroz', 93), ('feijao', 36), ('papel', 217)]\n"
          ]
        }
      ]
    },
    {
      "cell_type": "markdown",
      "metadata": {
        "id": "wld_hTIWmmCN"
      },
      "source": [
        "## Exercício 04 (e)\n",
        "<center><img width=\"70%\" src=\"https://cdn.loom.com/images/originals/bc11474aefa540d8833bf4dc4111679e.jpg?Expires=1637317945&Policy=eyJTdGF0ZW1lbnQiOlt7IlJlc291cmNlIjoiaHR0cHM6Ly9jZG4ubG9vbS5jb20vaW1hZ2VzL29yaWdpbmFscy9iYzExNDc0YWVmYTU0MGQ4ODMzYmY0ZGM0MTExNjc5ZS5qcGciLCJDb25kaXRpb24iOnsiRGF0ZUxlc3NUaGFuIjp7IkFXUzpFcG9jaFRpbWUiOjE2MzczMTc5NDV9fX1dfQ__&Signature=fQ9q27m7-jkszZsJluNYOgkB74nf9IiBCHWGHLq9Qq8ILLUf5JQ6B-PVnfBjEjn0Ac~wKKhY9UVLCR8lmNVOlsChunkMtmBWB8hITBIbwcpjnTPA8k2C0RU8fAtXg3L3fMiV5PmL7ipV9fLFG9zxO~1WQp-AfZcak9NEs4jSu3-mEQRiYg0Oa7V-9NEw1Fg6FU7-RQ8P24Y82ZnSTbmZSBxx~0lwY5K2oED5CwiyrGvcjPgmC7b-DqBJpg7rhYZz-S2wt508iISTsTgwVXlOC0CAFinbz~9u9RzT1ipk7LBsNbXZgiEPnRVAUVAKdp-ctRFnGlOfEwg12Lzk~kuprg__&Key-Pair-Id=APKAJQIC5BGSW7XXK7FQ\"></center>\n"
      ]
    },
    {
      "cell_type": "code",
      "metadata": {
        "colab": {
          "base_uri": "https://localhost:8080/"
        },
        "id": "pWvi5jQglw8T",
        "outputId": "e9ebc79c-ac61-4807-f725-aca4fc543855"
      },
      "source": [
        "# (a)\n",
        "casos = {'SP': 837978, 'BA': 265739, 'RJ': 230271, 'MG': 224987}\n",
        "casos"
      ],
      "execution_count": null,
      "outputs": [
        {
          "data": {
            "text/plain": [
              "{'BA': 265739, 'MG': 224987, 'RJ': 230271, 'SP': 837978}"
            ]
          },
          "execution_count": 23,
          "metadata": {},
          "output_type": "execute_result"
        }
      ]
    },
    {
      "cell_type": "code",
      "metadata": {
        "colab": {
          "base_uri": "https://localhost:8080/"
        },
        "id": "fAg5WsIhs20m",
        "outputId": "52994547-a7fd-46ca-dbf2-6185f190eb40"
      },
      "source": [
        "# (b)\n",
        "aux = list(casos.keys())\n",
        "aux.reverse()\n",
        "print([aux[i] for i in range(-1, -3, -1)]) # por o limite do range ser -3 vai imprimir somente 2 chaves e nesse caso não precisaria que os parametros de range seja negativo, uma vez que a lista já foi invertida"
      ],
      "execution_count": null,
      "outputs": [
        {
          "name": "stdout",
          "output_type": "stream",
          "text": [
            "['SP', 'BA']\n"
          ]
        }
      ]
    },
    {
      "cell_type": "code",
      "metadata": {
        "colab": {
          "base_uri": "https://localhost:8080/"
        },
        "id": "Z1My31vZs5fO",
        "outputId": "37968060-4ce6-454b-d9cc-034f34770e4e"
      },
      "source": [
        "# (c)\n",
        "aux = list(casos.keys())\n",
        "print(aux[-1:])"
      ],
      "execution_count": null,
      "outputs": [
        {
          "name": "stdout",
          "output_type": "stream",
          "text": [
            "['MG']\n"
          ]
        }
      ]
    },
    {
      "cell_type": "code",
      "metadata": {
        "id": "3q2nqN2rq0q1"
      },
      "source": [
        "# (d)\n",
        "# print(casos[-3:])\n",
        "# retorna: TypeError: unhashable type: 'slice'"
      ],
      "execution_count": null,
      "outputs": []
    },
    {
      "cell_type": "code",
      "metadata": {
        "colab": {
          "base_uri": "https://localhost:8080/"
        },
        "id": "mvq6Pw3uv5Lm",
        "outputId": "473384e3-1c86-44ec-f70f-c1a28726cc9e"
      },
      "source": [
        "# (e)\n",
        "aux = list(casos.keys())\n",
        "print([aux[i] for i in range(-1, -4, -1)])"
      ],
      "execution_count": null,
      "outputs": [
        {
          "name": "stdout",
          "output_type": "stream",
          "text": [
            "['MG', 'RJ', 'BA']\n"
          ]
        }
      ]
    },
    {
      "cell_type": "markdown",
      "metadata": {
        "id": "3Bgx93-IyCdl"
      },
      "source": [
        "## Exercício 05 (a)\n",
        "<center><img width=\"70%\" src=\"https://cdn.loom.com/images/originals/5c3cbbfa97c74965a9889789fac32158.jpg?Expires=1637321035&Policy=eyJTdGF0ZW1lbnQiOlt7IlJlc291cmNlIjoiaHR0cHM6Ly9jZG4ubG9vbS5jb20vaW1hZ2VzL29yaWdpbmFscy81YzNjYmJmYTk3Yzc0OTY1YTk4ODk3ODlmYWMzMjE1OC5qcGciLCJDb25kaXRpb24iOnsiRGF0ZUxlc3NUaGFuIjp7IkFXUzpFcG9jaFRpbWUiOjE2MzczMjEwMzV9fX1dfQ__&Signature=OJ-aBriY~XJ-4NJj4fArlt-hj~tTzHoh5dJkIa4AVg-WfnEOMKMTkSc~JlqaAtBXYrkaxGzX5utF~Fwv-7PhW40eMeqG0n~o3R4dRo9--C8axLAQKxUW8DAY0qVL3TDgJM-NpPqp2gmxNEw8jWlpYVcbRWljOeA1MWtQEqOTEiyVqkpMeLLtnZNEmdkxYJ97v6U2UrEPaQAYeofieOrBF01rwQ7KJvzD31-Co~kwgfSQkzPldOy1CZjF0CSuyMSP8MV4vyJYp~ARmUiptyYCdduvnf84eeri-~khDbt9TzUodsxHYYItKFSsK3aVtbRsFoM0PVcBKmrhJAuMahNXAw__&Key-Pair-Id=APKAJQIC5BGSW7XXK7FQ\"></center>\n"
      ]
    },
    {
      "cell_type": "markdown",
      "metadata": {
        "id": "GxBnZfuXyY4Q"
      },
      "source": [
        "## Exercício 06\n",
        "<center><img width=\"70%\" src=\"https://cdn.loom.com/images/originals/f25383c838b6432ca37176e99e78da9e.jpg?Expires=1637321083&Policy=eyJTdGF0ZW1lbnQiOlt7IlJlc291cmNlIjoiaHR0cHM6Ly9jZG4ubG9vbS5jb20vaW1hZ2VzL29yaWdpbmFscy9mMjUzODNjODM4YjY0MzJjYTM3MTc2ZTk5ZTc4ZGE5ZS5qcGciLCJDb25kaXRpb24iOnsiRGF0ZUxlc3NUaGFuIjp7IkFXUzpFcG9jaFRpbWUiOjE2MzczMjEwODN9fX1dfQ__&Signature=OFqTS~pOIhmmhhvBfVdh50w~GSp933b5OA1j0Wguk~FYT3iR5lZhcLweBRlJWQiBY~sqQmFG7GB116FoBiKAwZAf-yO5w3XGyF6cRaDsmjST8c5P5hoyVtWPQDmn9wiVoqBlY4oDM-7kHS~OMFgU8FeZ3L6wx9WOwPfroX0rrvWqGaGQXoNd7gmFe3zLGlNA-Oen8tEjSLHW6CnnsRRCoLKpTBBLiJAuZSKlF-Nxi2WmID-cRV37HZAJzen5-qp4XhcgbIwezU6qWfyKsrz25qDlNNftatTACgj0-IDyjdNGQifz6CBclMmoED4oNtiaZwzyw8t9BAaQhRyIMsWzyQ__&Key-Pair-Id=APKAJQIC5BGSW7XXK7FQ\"></center>\n"
      ]
    },
    {
      "cell_type": "code",
      "metadata": {
        "colab": {
          "base_uri": "https://localhost:8080/"
        },
        "id": "tYSedgkey0Cm",
        "outputId": "5e5409a7-6e2f-4253-adce-1f5d680b9542"
      },
      "source": [
        "import random\n",
        "#criando a lista que irá receber os valores aleatórios\n",
        "salarios = []\n",
        "print('O programa gerou esses 50 valores inteiros de 1100 a 11000 de salarios:\\n')\n",
        "#preenchendo a lista com 50 números\n",
        "for i in range(50):\n",
        "  salarios.append(random.randint(1100,11000))\n",
        "salarios = sorted(salarios)\n",
        "print(salarios)\n",
        "#criando a lista que irá receber os salarios separadados pelo valor inserido\n",
        "sal_menor = []\n",
        "sal_maior_igual = []\n",
        "#recebendo o valor corte\n",
        "corte = int(input('\\nInsira o valor inteiro para separar os salarios: '))\n",
        "#preenchendo as listas de salarios menor e maior igual\n",
        "for i in range(len(salarios)):\n",
        "  if salarios[i] >= corte:\n",
        "    sal_maior_igual.append(salarios[i])\n",
        "  else:\n",
        "    sal_menor.append(salarios[i])\n",
        "print('\\n\\tMenor salario:\\n\\t', sal_menor)\n",
        "print('\\n\\tMaior ou igual salario:\\n\\t', sal_maior_igual)"
      ],
      "execution_count": null,
      "outputs": [
        {
          "name": "stdout",
          "output_type": "stream",
          "text": [
            "O programa gerou esses 50 valores inteiros de 1100 a 11000 de salarios:\n",
            "\n",
            "[1359, 1424, 1608, 1955, 2019, 2370, 2584, 2821, 2843, 2883, 3062, 3144, 3259, 3660, 4057, 4471, 4587, 4803, 5728, 6063, 6283, 6298, 6873, 7134, 7352, 7665, 7726, 7831, 7868, 7919, 8057, 8137, 8244, 8497, 8543, 8703, 8961, 9287, 9329, 9355, 9426, 9443, 9566, 9764, 9954, 10003, 10098, 10582, 10892, 10951]\n",
            "\n",
            "Insira o valor inteiro para separar os salarios: 8961\n",
            "\n",
            "\tMenor salario:\n",
            "\t [1359, 1424, 1608, 1955, 2019, 2370, 2584, 2821, 2843, 2883, 3062, 3144, 3259, 3660, 4057, 4471, 4587, 4803, 5728, 6063, 6283, 6298, 6873, 7134, 7352, 7665, 7726, 7831, 7868, 7919, 8057, 8137, 8244, 8497, 8543, 8703]\n",
            "\n",
            "\tMaior ou igual salario:\n",
            "\t [8961, 9287, 9329, 9355, 9426, 9443, 9566, 9764, 9954, 10003, 10098, 10582, 10892, 10951]\n"
          ]
        }
      ]
    },
    {
      "cell_type": "markdown",
      "metadata": {
        "id": "XVJWaVUfyY7_"
      },
      "source": [
        "## Exercício 07\n",
        "\n",
        "Mostre uma solução para o exercício anterior usando compreensão de listas.\n"
      ]
    },
    {
      "cell_type": "code",
      "metadata": {
        "colab": {
          "base_uri": "https://localhost:8080/"
        },
        "id": "h9csPBne5DeO",
        "outputId": "7d9f51b2-5934-48af-f4d1-5800c0420700"
      },
      "source": [
        "import random\n",
        "#criando a lista que irá receber os valores aleatórios\n",
        "salarios = []\n",
        "print('O programa gerou esses 50 valores inteiros de 1100 a 11000 de salarios:\\n')\n",
        "#preenchendo a lista com 50 números\n",
        "salarios = sorted([random.randint(1100,11000) for i in range(50)])\n",
        "print(salarios)\n",
        "#criando a lista que irá receber os salarios separadados pelo valor inserido\n",
        "sal_menor = []\n",
        "sal_maior_igual = []\n",
        "#recebendo o valor corte\n",
        "corte = int(input('\\nInsira o valor inteiro para separar os salarios: '))\n",
        "#preenchendo as listas de salarios menor e maior igual\n",
        "sal_maior_igual = [(salarios[i]) for i in range(len(salarios)) if salarios[i] >= corte]\n",
        "sal_menor = [(salarios[i]) for i in range(len(salarios)) if salarios[i] < corte]\n",
        "print('\\n\\tMenor salario:\\n\\t', sal_menor)\n",
        "print('\\n\\tMaior ou igual salario:\\n\\t', sal_maior_igual)"
      ],
      "execution_count": null,
      "outputs": [
        {
          "name": "stdout",
          "output_type": "stream",
          "text": [
            "O programa gerou esses 50 valores inteiros de 1100 a 11000 de salarios:\n",
            "\n",
            "[1506, 1511, 1782, 1855, 2390, 2401, 2658, 3484, 3513, 3601, 3898, 3899, 3900, 4444, 4550, 4786, 4813, 4876, 4881, 5012, 5238, 5252, 5321, 5533, 5562, 5715, 6175, 6269, 6334, 6426, 6641, 7000, 7360, 7786, 7881, 7912, 8038, 8393, 8607, 8870, 8881, 8953, 9449, 9840, 10060, 10195, 10621, 10729, 10857, 10940]\n",
            "\n",
            "Insira o valor inteiro para separar os salarios: 7000\n",
            "\n",
            "\tMenor salario:\n",
            "\t [1506, 1511, 1782, 1855, 2390, 2401, 2658, 3484, 3513, 3601, 3898, 3899, 3900, 4444, 4550, 4786, 4813, 4876, 4881, 5012, 5238, 5252, 5321, 5533, 5562, 5715, 6175, 6269, 6334, 6426, 6641]\n",
            "\n",
            "\tMaior ou igual salario:\n",
            "\t [7000, 7360, 7786, 7881, 7912, 8038, 8393, 8607, 8870, 8881, 8953, 9449, 9840, 10060, 10195, 10621, 10729, 10857, 10940]\n"
          ]
        }
      ]
    },
    {
      "cell_type": "markdown",
      "metadata": {
        "id": "nXS3qD8qUlo1"
      },
      "source": [
        "## Exercício 08\n",
        "<center><img width=\"70%\" src=\"https://cdn.loom.com/images/originals/752dcf11b69e42d8b37f1335fff55123.jpg?Expires=1637447442&Policy=eyJTdGF0ZW1lbnQiOlt7IlJlc291cmNlIjoiaHR0cHM6Ly9jZG4ubG9vbS5jb20vaW1hZ2VzL29yaWdpbmFscy83NTJkY2YxMWI2OWU0MmQ4YjM3ZjEzMzVmZmY1NTEyMy5qcGciLCJDb25kaXRpb24iOnsiRGF0ZUxlc3NUaGFuIjp7IkFXUzpFcG9jaFRpbWUiOjE2Mzc0NDc0NDJ9fX1dfQ__&Signature=meaOT8Oq6lEZyNs~6wVIIebUkDz-3wOnIdSi5t4nDGfzLb8Ly0NDWcKxDHJ7bMgop6AX8OgaRm4FmTZUi7Cl1TSpBx7KFkZytqcvdB3~LTvl1RDfoyjNgWlhI3JvkhRYK8CIXSet1RtWeAWHqy8GYfV6ckxjDkA2FLbO6fTaWfV-S~mjT7dFdaWkesh7C~ws6ZP~nIUldmtnhPNcXXYPGJ-9YBiORVAxhWAJ5z307w24h6JQPoVL2WZvTV25t72PYyZ5izZqhjb8G8BT2FkOLyH4eCXpqOXl2vz91v8uBzBY6ENAqzj10mtoOnAX58kk5GHikh7hDFllJzSxGkVNdA__&Key-Pair-Id=APKAJQIC5BGSW7XXK7FQ\"></center>\n"
      ]
    },
    {
      "cell_type": "code",
      "metadata": {
        "colab": {
          "base_uri": "https://localhost:8080/"
        },
        "id": "Tzvw-YCCVMIb",
        "outputId": "35c811a0-ad8c-4217-8b7a-5dc15bc7f2b1"
      },
      "source": [
        "import random\n",
        "#criando a lista que irá receber os valores aleatórios\n",
        "salarios = []\n",
        "print('O programa gerou esses 50 valores inteiros de 1100 a 11000 de salarios:\\n')\n",
        "#preenchendo a lista com 50 números\n",
        "salarios = [random.randint(1100,11000) for i in range(50)]\n",
        "print(salarios)\n",
        "#criando a lista que irá receber os salarios separadados pelo valor inserido\n",
        "sal_menor = []\n",
        "sal_maior_igual = []\n",
        "#recebendo o valor corte\n",
        "corte = int(input('\\nInsira o valor inteiro para separar os salarios: '))\n",
        "#preenchendo as listas de salarios menor e maior igual\n",
        "sal_maior_igual = [(salarios[i],i) for i in range(len(salarios)) if salarios[i] >= corte]\n",
        "sal_menor = [(salarios[i],i) for i in range(len(salarios)) if salarios[i] < corte]\n",
        "print('\\n\\tMenor salario:\\n\\t', sal_menor)\n",
        "print('\\n\\tMaior ou igual salario:\\n\\t', sal_maior_igual)"
      ],
      "execution_count": null,
      "outputs": [
        {
          "name": "stdout",
          "output_type": "stream",
          "text": [
            "O programa gerou esses 50 valores inteiros de 1100 a 11000 de salarios:\n",
            "\n",
            "[9195, 5823, 5190, 10796, 3634, 2201, 5933, 9249, 10357, 4382, 3810, 8245, 8829, 8672, 2087, 6100, 7857, 10211, 1766, 10619, 6309, 10500, 1501, 3411, 7208, 7151, 2743, 9416, 5816, 6910, 10014, 5101, 3076, 7516, 4152, 4950, 7669, 5487, 4014, 7216, 5465, 2223, 2075, 5021, 4821, 5342, 3474, 6102, 5513, 9209]\n",
            "\n",
            "Insira o valor inteiro para separar os salarios: 10014\n",
            "\n",
            "\tMenor salario:\n",
            "\t [(9195, 0), (5823, 1), (5190, 2), (3634, 4), (2201, 5), (5933, 6), (9249, 7), (4382, 9), (3810, 10), (8245, 11), (8829, 12), (8672, 13), (2087, 14), (6100, 15), (7857, 16), (1766, 18), (6309, 20), (1501, 22), (3411, 23), (7208, 24), (7151, 25), (2743, 26), (9416, 27), (5816, 28), (6910, 29), (5101, 31), (3076, 32), (7516, 33), (4152, 34), (4950, 35), (7669, 36), (5487, 37), (4014, 38), (7216, 39), (5465, 40), (2223, 41), (2075, 42), (5021, 43), (4821, 44), (5342, 45), (3474, 46), (6102, 47), (5513, 48), (9209, 49)]\n",
            "\n",
            "\tMaior ou igual salario:\n",
            "\t [(10796, 3), (10357, 8), (10211, 17), (10619, 19), (10500, 21), (10014, 30)]\n"
          ]
        }
      ]
    },
    {
      "cell_type": "markdown",
      "metadata": {
        "id": "q25qQMNfpRNH"
      },
      "source": [
        "## Exercício 09\n",
        "<center><img width=\"70%\" src=\"https://cdn.loom.com/images/originals/f7b0a4cdf5aa48caa78cc76b329965ad.jpg?Expires=1637452864&Policy=eyJTdGF0ZW1lbnQiOlt7IlJlc291cmNlIjoiaHR0cHM6Ly9jZG4ubG9vbS5jb20vaW1hZ2VzL29yaWdpbmFscy9mN2IwYTRjZGY1YWE0OGNhYTc4Y2M3NmIzMjk5NjVhZC5qcGciLCJDb25kaXRpb24iOnsiRGF0ZUxlc3NUaGFuIjp7IkFXUzpFcG9jaFRpbWUiOjE2Mzc0NTI4NjR9fX1dfQ__&Signature=qu~xv7l-NRX-xhiwTvekSqPrdMghxAXCtmM7o5ig-yvSzBUtdBb2st10jr33IEmpQtg8QV0u3oqGMJ49YOYaCW0XU3osM7xk1ktMu4dSGAdWVovbzGdgA1DqYcyZPKqEgkAcRsmcFm7ORafHxE7RiwHGvPFzdSvSGi1GyikkSfBqWOH8Doy-QIR~UdstXCJdOrHWjy-PN5TFD03R7~tgIe3G8Ush0rWa2ILgS5cw8Ctx2qwXAZCt9SqhmV1xcled~e~jnvjPZ9E2O9kxUTrts0F5RXyCbJr-NNPgib5L3NqilwS5Etn-8KprFjAPS~ayTv09Ryy1XK-y1AH3teMFWw__&Key-Pair-Id=APKAJQIC5BGSW7XXK7FQ\"></center>\n"
      ]
    },
    {
      "cell_type": "code",
      "metadata": {
        "colab": {
          "base_uri": "https://localhost:8080/"
        },
        "id": "bGi1xu9wtn6X",
        "outputId": "7997449f-8516-4077-bdd2-9b6d6f9bb421"
      },
      "source": [
        "# recebendo a frase e deixando-a em maiúscula\n",
        "frase = input('Insira uma frase sem acentro e pontuações: \\n\\t').upper()\n",
        "# criando o dicionário com as aparições zeradas\n",
        "dic_alfabeto = {'A': 0, 'B': 0, 'C': 0, 'D': 0, 'E': 0, 'F': 0, 'G': 0, 'H': 0, 'I': 0, 'J': 0, 'K': 0, 'L': 0, 'M': 0, 'N': 0, 'O': 0, 'P': 0, 'Q': 0, 'R': 0, 'S': 0, 'T': 0, 'U': 0, 'V': 0, 'W': 0, 'X': 0, 'Y': 0, 'Z': 0}\n",
        "# for para iterar letra a letra na frase inserida\n",
        "for letra_frase in range(len(frase)):\n",
        "  # for para iterar cada letra da frase em todas as chaves do dicionário\n",
        "  for letra_alfabeto in range(len(list(dic_alfabeto.keys()))):\n",
        "    # condicional para verificar se letra da frase é a letra da chave\n",
        "    if frase[letra_frase] is list(dic_alfabeto.keys())[letra_alfabeto]:\n",
        "      dic_alfabeto[list(dic_alfabeto.keys())[letra_alfabeto]] += 1\n",
        "    # caso seja qualquer coisa chave diferente das chaves do dicionário não vamos contabilizar - resolvendo a questão do espaço\n",
        "    else:\n",
        "      pass\n",
        "# imprimindo o dicionário com as aparições atualizadas\n",
        "print(dic_alfabeto)"
      ],
      "execution_count": null,
      "outputs": [
        {
          "name": "stdout",
          "output_type": "stream",
          "text": [
            "Insira uma frase sem acentro e pontuações: \n",
            "\tDouglas Camargo dos santos\n",
            "{'A': 4, 'B': 0, 'C': 1, 'D': 2, 'E': 0, 'F': 0, 'G': 2, 'H': 0, 'I': 0, 'J': 0, 'K': 0, 'L': 1, 'M': 1, 'N': 1, 'O': 4, 'P': 0, 'Q': 0, 'R': 1, 'S': 4, 'T': 1, 'U': 1, 'V': 0, 'W': 0, 'X': 0, 'Y': 0, 'Z': 0}\n"
          ]
        }
      ]
    },
    {
      "cell_type": "markdown",
      "metadata": {
        "id": "HvUXM-422cqQ"
      },
      "source": [
        "## Exercício 10\n",
        "<center><img width=\"70%\" src=\"https://cdn.loom.com/images/originals/74d04f9b7b4f4a91b73de85f5ba01267.jpg?Expires=1637456332&Policy=eyJTdGF0ZW1lbnQiOlt7IlJlc291cmNlIjoiaHR0cHM6Ly9jZG4ubG9vbS5jb20vaW1hZ2VzL29yaWdpbmFscy83NGQwNGY5YjdiNGY0YTkxYjczZGU4NWY1YmEwMTI2Ny5qcGciLCJDb25kaXRpb24iOnsiRGF0ZUxlc3NUaGFuIjp7IkFXUzpFcG9jaFRpbWUiOjE2Mzc0NTYzMzJ9fX1dfQ__&Signature=Zl~pkJBU-mmU85zSuegsWUKaeACd62ss6iC5AA1jeIGkrpEhVPy7h5rruLbDirreAZwGWdZqDzLJ4AdKTzCJzYALrJ6wK9JEISXX6XBPGqYod~48Dv4Bugz-JmT23-WaWo-5azJf8hGagnQzV5XkcUyC01xin6~SGpgc5hcvGkBLAGYOfZ~bkLsjyS93T5t7yJIiHNnUVI0C9nQxga6oak2g~yZNGFhgrx6IIcADS-03Lp2n5VP~S5kKdktylsKNMFcz8n9Mn4XQpKAIv~LDirIm0sT0eOgDoF-CDYSA97cgR5I2YonTQ69xI9zE21puxvyTn9z-15NGMzKpAmD6mQ__&Key-Pair-Id=APKAJQIC5BGSW7XXK7FQ\"></center>\n"
      ]
    },
    {
      "cell_type": "code",
      "metadata": {
        "colab": {
          "base_uri": "https://localhost:8080/"
        },
        "id": "DvGA6h1LxkAo",
        "outputId": "be8f57fa-2e1d-4b76-9abb-dc15e8b75fe7"
      },
      "source": [
        "# recebendo a frase e deixando-a em maiúscula\n",
        "frase = input('Insira uma frase sem acentro e pontuações: \\n\\t').upper()\n",
        "# criando o dicionário com as aparições zeradas\n",
        "chaves = []\n",
        "for letra in range(len(frase)):\n",
        "  if not(frase[letra] in chaves) and frase[letra] != \" \":\n",
        "    chaves.append(frase[letra])\n",
        "letras_unicas = {chaves[i]: 0 for i in range(len(chaves))}\n",
        "# for para iterar letra a letra na frase inserida\n",
        "for letra_frase in range(len(frase)):\n",
        "  # for para iterar cada letra da frase em todas as chaves do dicionário\n",
        "  for letra_alfabeto in range(len(list(letras_unicas.keys()))):\n",
        "    # condicional para verificar se letra da frase é a letra da chave\n",
        "    if frase[letra_frase] is list(letras_unicas.keys())[letra_alfabeto]:\n",
        "      letras_unicas[list(letras_unicas.keys())[letra_alfabeto]] += 1\n",
        "    # caso seja qualquer coisa chave diferente das chaves do dicionário não vamos contabilizar - resolvendo a questão do espaço\n",
        "    else:\n",
        "      pass\n",
        "# imprimindo o dicionário com as aparições atualizadas\n",
        "print(letras_unicas)"
      ],
      "execution_count": null,
      "outputs": [
        {
          "name": "stdout",
          "output_type": "stream",
          "text": [
            "Insira uma frase sem acentro e pontuações: \n",
            "\tDouglas Camargo dos aSantos\n",
            "{'D': 2, 'O': 4, 'U': 1, 'G': 2, 'L': 1, 'A': 5, 'S': 4, 'C': 1, 'M': 1, 'R': 1, 'N': 1, 'T': 1}\n"
          ]
        }
      ]
    },
    {
      "cell_type": "markdown",
      "metadata": {
        "id": "NhR7ZEkvrIq9"
      },
      "source": [
        "# Dúvidas\n",
        "\n",
        "- [x] como ordenar valores no dicionário caso os valores não fossem inseridos no dicionário de maneira crescente?\n"
      ]
    }
  ]
}