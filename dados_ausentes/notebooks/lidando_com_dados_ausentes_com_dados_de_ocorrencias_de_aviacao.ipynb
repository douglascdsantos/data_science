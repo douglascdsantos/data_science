{
  "nbformat": 4,
  "nbformat_minor": 0,
  "metadata": {
    "colab": {
      "name": "DSNP 3.0 -  Análise Exploratória - notas de aula.ipynb",
      "provenance": [],
      "authorship_tag": "ABX9TyMw24/xgo0d/xXdhZ8axBKW",
      "include_colab_link": true
    },
    "kernelspec": {
      "name": "python3",
      "display_name": "Python 3"
    },
    "language_info": {
      "name": "python"
    }
  },
  "cells": [
    {
      "cell_type": "markdown",
      "metadata": {
        "id": "view-in-github",
        "colab_type": "text"
      },
      "source": [
        "<a href=\"https://colab.research.google.com/github/douglascdsantos/data_science/blob/main/dados_ausentes/notebooks/lidando_com_dados_ausentes_com_dados_de_ocorrencias_de_aviacao.ipynb\" target=\"_parent\"><img src=\"https://colab.research.google.com/assets/colab-badge.svg\" alt=\"Open In Colab\"/></a>"
      ]
    },
    {
      "cell_type": "code",
      "metadata": {
        "id": "EMAonPWwQ_Md"
      },
      "source": [
        "import pandas as pd\n"
      ],
      "execution_count": null,
      "outputs": []
    },
    {
      "cell_type": "code",
      "metadata": {
        "id": "COrYcTlXRL3Z"
      },
      "source": [
        "url = \"https://raw.githubusercontent.com/carlosfab/dsnp2/master/datasets/ocorrencias_aviacao.csv\"\n",
        "df = pd.read_csv(url,\n",
        "                 index_col = 'codigo_ocorrencia')"
      ],
      "execution_count": null,
      "outputs": []
    },
    {
      "cell_type": "code",
      "metadata": {
        "colab": {
          "base_uri": "https://localhost:8080/",
          "height": 368
        },
        "id": "d5gjj4WbRUVw",
        "outputId": "8d9b3ed1-f6db-406f-8ac6-412d2b14c25c"
      },
      "source": [
        "df.head()"
      ],
      "execution_count": null,
      "outputs": [
        {
          "output_type": "execute_result",
          "data": {
            "text/html": [
              "<div>\n",
              "<style scoped>\n",
              "    .dataframe tbody tr th:only-of-type {\n",
              "        vertical-align: middle;\n",
              "    }\n",
              "\n",
              "    .dataframe tbody tr th {\n",
              "        vertical-align: top;\n",
              "    }\n",
              "\n",
              "    .dataframe thead th {\n",
              "        text-align: right;\n",
              "    }\n",
              "</style>\n",
              "<table border=\"1\" class=\"dataframe\">\n",
              "  <thead>\n",
              "    <tr style=\"text-align: right;\">\n",
              "      <th></th>\n",
              "      <th>ocorrencia_classificacao</th>\n",
              "      <th>ocorrencia_tipo</th>\n",
              "      <th>ocorrencia_tipo_categoria</th>\n",
              "      <th>ocorrencia_tipo_icao</th>\n",
              "      <th>ocorrencia_latitude</th>\n",
              "      <th>ocorrencia_longitude</th>\n",
              "      <th>ocorrencia_cidade</th>\n",
              "      <th>ocorrencia_uf</th>\n",
              "      <th>ocorrencia_pais</th>\n",
              "      <th>ocorrencia_aerodromo</th>\n",
              "      <th>ocorrencia_dia</th>\n",
              "      <th>ocorrencia_horario</th>\n",
              "      <th>investigacao_aeronave_liberada</th>\n",
              "      <th>investigacao_status</th>\n",
              "      <th>divulgacao_relatorio_numero</th>\n",
              "      <th>divulgacao_relatorio_publicado</th>\n",
              "      <th>divulgacao_dia_publicacao</th>\n",
              "      <th>total_recomendacoes</th>\n",
              "      <th>total_aeronaves_envolvidas</th>\n",
              "      <th>ocorrencia_saida_pista</th>\n",
              "      <th>ocorrencia_dia_extracao</th>\n",
              "    </tr>\n",
              "    <tr>\n",
              "      <th>codigo_ocorrencia</th>\n",
              "      <th></th>\n",
              "      <th></th>\n",
              "      <th></th>\n",
              "      <th></th>\n",
              "      <th></th>\n",
              "      <th></th>\n",
              "      <th></th>\n",
              "      <th></th>\n",
              "      <th></th>\n",
              "      <th></th>\n",
              "      <th></th>\n",
              "      <th></th>\n",
              "      <th></th>\n",
              "      <th></th>\n",
              "      <th></th>\n",
              "      <th></th>\n",
              "      <th></th>\n",
              "      <th></th>\n",
              "      <th></th>\n",
              "      <th></th>\n",
              "      <th></th>\n",
              "    </tr>\n",
              "  </thead>\n",
              "  <tbody>\n",
              "    <tr>\n",
              "      <th>201305055424986</th>\n",
              "      <td>ACIDENTE</td>\n",
              "      <td>FALHA DO MOTOR EM VOO</td>\n",
              "      <td>FALHA OU MAU FUNCIONAMENTO DO MOTOR</td>\n",
              "      <td>SCF-PP</td>\n",
              "      <td>-9.9085</td>\n",
              "      <td>-63.0333</td>\n",
              "      <td>ARIQUEMES</td>\n",
              "      <td>RO</td>\n",
              "      <td>BRASIL</td>\n",
              "      <td>SJOG</td>\n",
              "      <td>2013-05-05</td>\n",
              "      <td>11:00:00</td>\n",
              "      <td>NaN</td>\n",
              "      <td>FINALIZADA</td>\n",
              "      <td>***</td>\n",
              "      <td>NÃO</td>\n",
              "      <td>NaN</td>\n",
              "      <td>0</td>\n",
              "      <td>1</td>\n",
              "      <td>NÃO</td>\n",
              "      <td>2018-08-28</td>\n",
              "    </tr>\n",
              "    <tr>\n",
              "      <th>201605160250139</th>\n",
              "      <td>INCIDENTE GRAVE</td>\n",
              "      <td>COLISÃO COM OBSTÁCULO DURANTE A DECOLAGEM E POUSO</td>\n",
              "      <td>COLISÃO COM OBSTÁCULO DURANTE A DECOLAGEM E POUSO</td>\n",
              "      <td>CTOL</td>\n",
              "      <td>-11.2644</td>\n",
              "      <td>-61.2589</td>\n",
              "      <td>CACOAL</td>\n",
              "      <td>RO</td>\n",
              "      <td>BRASIL</td>\n",
              "      <td>SSKW</td>\n",
              "      <td>2016-05-13</td>\n",
              "      <td>19:19:00</td>\n",
              "      <td>SIM</td>\n",
              "      <td>ATIVA</td>\n",
              "      <td>IG-084/CENIPA/2016</td>\n",
              "      <td>NÃO</td>\n",
              "      <td>NaN</td>\n",
              "      <td>0</td>\n",
              "      <td>1</td>\n",
              "      <td>NÃO</td>\n",
              "      <td>2018-08-28</td>\n",
              "    </tr>\n",
              "    <tr>\n",
              "      <th>201805021421302</th>\n",
              "      <td>INCIDENTE</td>\n",
              "      <td>AERÓDROMO</td>\n",
              "      <td>AERÓDROMO</td>\n",
              "      <td>ADRM</td>\n",
              "      <td>-11.4956</td>\n",
              "      <td>-61.4508</td>\n",
              "      <td>CACOAL</td>\n",
              "      <td>RO</td>\n",
              "      <td>BRASIL</td>\n",
              "      <td>SSKW</td>\n",
              "      <td>2018-03-09</td>\n",
              "      <td>22:40:00</td>\n",
              "      <td>SIM</td>\n",
              "      <td>FINALIZADA</td>\n",
              "      <td>***</td>\n",
              "      <td>NÃO</td>\n",
              "      <td>NaN</td>\n",
              "      <td>0</td>\n",
              "      <td>1</td>\n",
              "      <td>NÃO</td>\n",
              "      <td>2018-08-28</td>\n",
              "    </tr>\n",
              "    <tr>\n",
              "      <th>201311259977425</th>\n",
              "      <td>INCIDENTE GRAVE</td>\n",
              "      <td>POUSO SEM TREM</td>\n",
              "      <td>CONTATO ANORMAL COM A PISTA</td>\n",
              "      <td>ARC</td>\n",
              "      <td>-11.4956</td>\n",
              "      <td>-61.4508</td>\n",
              "      <td>CACOAL</td>\n",
              "      <td>RO</td>\n",
              "      <td>BRASIL</td>\n",
              "      <td>SSKW</td>\n",
              "      <td>2013-11-25</td>\n",
              "      <td>12:32:00</td>\n",
              "      <td>NaN</td>\n",
              "      <td>FINALIZADA</td>\n",
              "      <td>IG-209/CENIPA/2013</td>\n",
              "      <td>SIM</td>\n",
              "      <td>2014-04-07</td>\n",
              "      <td>0</td>\n",
              "      <td>1</td>\n",
              "      <td>NÃO</td>\n",
              "      <td>2018-08-28</td>\n",
              "    </tr>\n",
              "    <tr>\n",
              "      <th>201103187273112</th>\n",
              "      <td>INCIDENTE</td>\n",
              "      <td>OUTROS</td>\n",
              "      <td>OUTROS</td>\n",
              "      <td>OTHR</td>\n",
              "      <td>-13.1950</td>\n",
              "      <td>-60.8184</td>\n",
              "      <td>CEREJEIRAS</td>\n",
              "      <td>RO</td>\n",
              "      <td>BRASIL</td>\n",
              "      <td>****</td>\n",
              "      <td>2011-03-18</td>\n",
              "      <td>13:30:00</td>\n",
              "      <td>NaN</td>\n",
              "      <td>FINALIZADA</td>\n",
              "      <td>***</td>\n",
              "      <td>NÃO</td>\n",
              "      <td>NaN</td>\n",
              "      <td>0</td>\n",
              "      <td>1</td>\n",
              "      <td>NÃO</td>\n",
              "      <td>2018-08-28</td>\n",
              "    </tr>\n",
              "  </tbody>\n",
              "</table>\n",
              "</div>"
            ],
            "text/plain": [
              "                  ocorrencia_classificacao  ... ocorrencia_dia_extracao\n",
              "codigo_ocorrencia                           ...                        \n",
              "201305055424986                   ACIDENTE  ...              2018-08-28\n",
              "201605160250139            INCIDENTE GRAVE  ...              2018-08-28\n",
              "201805021421302                  INCIDENTE  ...              2018-08-28\n",
              "201311259977425            INCIDENTE GRAVE  ...              2018-08-28\n",
              "201103187273112                  INCIDENTE  ...              2018-08-28\n",
              "\n",
              "[5 rows x 21 columns]"
            ]
          },
          "metadata": {},
          "execution_count": 3
        }
      ]
    },
    {
      "cell_type": "markdown",
      "metadata": {
        "id": "9I_BOZ7PaoXk"
      },
      "source": [
        "Conferindo as features do nosso dataset, sabemos que é esperado de que as colunas\n",
        "- ocorrencia_dia;\n",
        "- ocorrencia_horario;\n",
        "- divulgacao_dia_publicacao\t;\n",
        "- ocorrencia_dia_extracao.\n",
        "\n",
        "venham com dtype de *datetime*"
      ]
    },
    {
      "cell_type": "code",
      "metadata": {
        "colab": {
          "base_uri": "https://localhost:8080/"
        },
        "id": "uYgKTxVlails",
        "outputId": "8ff7dc2a-c1cf-40a6-caf4-65939b7fd8f9"
      },
      "source": [
        "# conferindo os dtypes do dataset\n",
        "df.info()"
      ],
      "execution_count": null,
      "outputs": [
        {
          "output_type": "stream",
          "name": "stdout",
          "text": [
            "<class 'pandas.core.frame.DataFrame'>\n",
            "Int64Index: 5208 entries, 201305055424986 to 201309012098180\n",
            "Data columns (total 21 columns):\n",
            " #   Column                          Non-Null Count  Dtype  \n",
            "---  ------                          --------------  -----  \n",
            " 0   ocorrencia_classificacao        5208 non-null   object \n",
            " 1   ocorrencia_tipo                 5208 non-null   object \n",
            " 2   ocorrencia_tipo_categoria       5208 non-null   object \n",
            " 3   ocorrencia_tipo_icao            5208 non-null   object \n",
            " 4   ocorrencia_latitude             5208 non-null   float64\n",
            " 5   ocorrencia_longitude            5208 non-null   float64\n",
            " 6   ocorrencia_cidade               5208 non-null   object \n",
            " 7   ocorrencia_uf                   5208 non-null   object \n",
            " 8   ocorrencia_pais                 5208 non-null   object \n",
            " 9   ocorrencia_aerodromo            5208 non-null   object \n",
            " 10  ocorrencia_dia                  5208 non-null   object \n",
            " 11  ocorrencia_horario              5208 non-null   object \n",
            " 12  investigacao_aeronave_liberada  1110 non-null   object \n",
            " 13  investigacao_status             5208 non-null   object \n",
            " 14  divulgacao_relatorio_numero     5208 non-null   object \n",
            " 15  divulgacao_relatorio_publicado  5208 non-null   object \n",
            " 16  divulgacao_dia_publicacao       1261 non-null   object \n",
            " 17  total_recomendacoes             5208 non-null   int64  \n",
            " 18  total_aeronaves_envolvidas      5208 non-null   int64  \n",
            " 19  ocorrencia_saida_pista          5208 non-null   object \n",
            " 20  ocorrencia_dia_extracao         5208 non-null   object \n",
            "dtypes: float64(2), int64(2), object(17)\n",
            "memory usage: 895.1+ KB\n"
          ]
        }
      ]
    },
    {
      "cell_type": "markdown",
      "metadata": {
        "id": "6YyEL8_DbWPs"
      },
      "source": [
        "Como as features citadas não estavam, vamos transforma-las para o formato esperado"
      ]
    },
    {
      "cell_type": "code",
      "metadata": {
        "id": "KPY5cQMDRXE8"
      },
      "source": [
        "# transformando a coluna 'ocorrencia_dia' e 'ocorrencia_horario' em datetime\n",
        "df['ocorrencia_dia'] = pd.to_datetime(df['ocorrencia_dia'])\n",
        "df['ocorrencia_horario'] = pd.to_datetime(df['ocorrencia_horario'])\n",
        "df['divulgacao_dia_publicacao'] = pd.to_datetime(df['divulgacao_dia_publicacao'])\n",
        "df['ocorrencia_dia_extracao'] = pd.to_datetime(df['ocorrencia_dia_extracao'])\n",
        "\n",
        "# como a feature 'ocorrencia_horario' possui somente o horário se rodarmos somente o código acima irá retornar preenchendo o dia com o dia de hoje ficando do tipo '2021-10-14 19:19:00'\n",
        "df['ocorrencia_horario'] = df['ocorrencia_horario'].dt.strftime('%H:%M:%S')"
      ],
      "execution_count": null,
      "outputs": []
    },
    {
      "cell_type": "code",
      "metadata": {
        "colab": {
          "base_uri": "https://localhost:8080/"
        },
        "id": "_vMQaHUOT05Y",
        "outputId": "4cae0d40-4028-4186-af6d-9772ecb223a2"
      },
      "source": [
        "# conferindo a alteração\n",
        "df.info()"
      ],
      "execution_count": null,
      "outputs": [
        {
          "output_type": "stream",
          "name": "stdout",
          "text": [
            "<class 'pandas.core.frame.DataFrame'>\n",
            "Int64Index: 5208 entries, 201305055424986 to 201309012098180\n",
            "Data columns (total 21 columns):\n",
            " #   Column                          Non-Null Count  Dtype         \n",
            "---  ------                          --------------  -----         \n",
            " 0   ocorrencia_classificacao        5208 non-null   object        \n",
            " 1   ocorrencia_tipo                 5208 non-null   object        \n",
            " 2   ocorrencia_tipo_categoria       5208 non-null   object        \n",
            " 3   ocorrencia_tipo_icao            5208 non-null   object        \n",
            " 4   ocorrencia_latitude             5208 non-null   float64       \n",
            " 5   ocorrencia_longitude            5208 non-null   float64       \n",
            " 6   ocorrencia_cidade               5208 non-null   object        \n",
            " 7   ocorrencia_uf                   5208 non-null   object        \n",
            " 8   ocorrencia_pais                 5208 non-null   object        \n",
            " 9   ocorrencia_aerodromo            5208 non-null   object        \n",
            " 10  ocorrencia_dia                  5208 non-null   datetime64[ns]\n",
            " 11  ocorrencia_horario              5208 non-null   object        \n",
            " 12  investigacao_aeronave_liberada  1110 non-null   object        \n",
            " 13  investigacao_status             5208 non-null   object        \n",
            " 14  divulgacao_relatorio_numero     5208 non-null   object        \n",
            " 15  divulgacao_relatorio_publicado  5208 non-null   object        \n",
            " 16  divulgacao_dia_publicacao       1261 non-null   datetime64[ns]\n",
            " 17  total_recomendacoes             5208 non-null   int64         \n",
            " 18  total_aeronaves_envolvidas      5208 non-null   int64         \n",
            " 19  ocorrencia_saida_pista          5208 non-null   object        \n",
            " 20  ocorrencia_dia_extracao         5208 non-null   datetime64[ns]\n",
            "dtypes: datetime64[ns](3), float64(2), int64(2), object(14)\n",
            "memory usage: 895.1+ KB\n"
          ]
        }
      ]
    },
    {
      "cell_type": "code",
      "metadata": {
        "colab": {
          "base_uri": "https://localhost:8080/",
          "height": 368
        },
        "id": "9DafBeXLdKYF",
        "outputId": "56e83f8a-cb9e-4a04-ddc1-a9b7c249f5c4"
      },
      "source": [
        "df.head()"
      ],
      "execution_count": null,
      "outputs": [
        {
          "output_type": "execute_result",
          "data": {
            "text/html": [
              "<div>\n",
              "<style scoped>\n",
              "    .dataframe tbody tr th:only-of-type {\n",
              "        vertical-align: middle;\n",
              "    }\n",
              "\n",
              "    .dataframe tbody tr th {\n",
              "        vertical-align: top;\n",
              "    }\n",
              "\n",
              "    .dataframe thead th {\n",
              "        text-align: right;\n",
              "    }\n",
              "</style>\n",
              "<table border=\"1\" class=\"dataframe\">\n",
              "  <thead>\n",
              "    <tr style=\"text-align: right;\">\n",
              "      <th></th>\n",
              "      <th>ocorrencia_classificacao</th>\n",
              "      <th>ocorrencia_tipo</th>\n",
              "      <th>ocorrencia_tipo_categoria</th>\n",
              "      <th>ocorrencia_tipo_icao</th>\n",
              "      <th>ocorrencia_latitude</th>\n",
              "      <th>ocorrencia_longitude</th>\n",
              "      <th>ocorrencia_cidade</th>\n",
              "      <th>ocorrencia_uf</th>\n",
              "      <th>ocorrencia_pais</th>\n",
              "      <th>ocorrencia_aerodromo</th>\n",
              "      <th>ocorrencia_dia</th>\n",
              "      <th>ocorrencia_horario</th>\n",
              "      <th>investigacao_aeronave_liberada</th>\n",
              "      <th>investigacao_status</th>\n",
              "      <th>divulgacao_relatorio_numero</th>\n",
              "      <th>divulgacao_relatorio_publicado</th>\n",
              "      <th>divulgacao_dia_publicacao</th>\n",
              "      <th>total_recomendacoes</th>\n",
              "      <th>total_aeronaves_envolvidas</th>\n",
              "      <th>ocorrencia_saida_pista</th>\n",
              "      <th>ocorrencia_dia_extracao</th>\n",
              "    </tr>\n",
              "    <tr>\n",
              "      <th>codigo_ocorrencia</th>\n",
              "      <th></th>\n",
              "      <th></th>\n",
              "      <th></th>\n",
              "      <th></th>\n",
              "      <th></th>\n",
              "      <th></th>\n",
              "      <th></th>\n",
              "      <th></th>\n",
              "      <th></th>\n",
              "      <th></th>\n",
              "      <th></th>\n",
              "      <th></th>\n",
              "      <th></th>\n",
              "      <th></th>\n",
              "      <th></th>\n",
              "      <th></th>\n",
              "      <th></th>\n",
              "      <th></th>\n",
              "      <th></th>\n",
              "      <th></th>\n",
              "      <th></th>\n",
              "    </tr>\n",
              "  </thead>\n",
              "  <tbody>\n",
              "    <tr>\n",
              "      <th>201305055424986</th>\n",
              "      <td>ACIDENTE</td>\n",
              "      <td>FALHA DO MOTOR EM VOO</td>\n",
              "      <td>FALHA OU MAU FUNCIONAMENTO DO MOTOR</td>\n",
              "      <td>SCF-PP</td>\n",
              "      <td>-9.9085</td>\n",
              "      <td>-63.0333</td>\n",
              "      <td>ARIQUEMES</td>\n",
              "      <td>RO</td>\n",
              "      <td>BRASIL</td>\n",
              "      <td>SJOG</td>\n",
              "      <td>2013-05-05</td>\n",
              "      <td>11:00:00</td>\n",
              "      <td>NaN</td>\n",
              "      <td>FINALIZADA</td>\n",
              "      <td>***</td>\n",
              "      <td>NÃO</td>\n",
              "      <td>NaT</td>\n",
              "      <td>0</td>\n",
              "      <td>1</td>\n",
              "      <td>NÃO</td>\n",
              "      <td>2018-08-28</td>\n",
              "    </tr>\n",
              "    <tr>\n",
              "      <th>201605160250139</th>\n",
              "      <td>INCIDENTE GRAVE</td>\n",
              "      <td>COLISÃO COM OBSTÁCULO DURANTE A DECOLAGEM E POUSO</td>\n",
              "      <td>COLISÃO COM OBSTÁCULO DURANTE A DECOLAGEM E POUSO</td>\n",
              "      <td>CTOL</td>\n",
              "      <td>-11.2644</td>\n",
              "      <td>-61.2589</td>\n",
              "      <td>CACOAL</td>\n",
              "      <td>RO</td>\n",
              "      <td>BRASIL</td>\n",
              "      <td>SSKW</td>\n",
              "      <td>2016-05-13</td>\n",
              "      <td>19:19:00</td>\n",
              "      <td>SIM</td>\n",
              "      <td>ATIVA</td>\n",
              "      <td>IG-084/CENIPA/2016</td>\n",
              "      <td>NÃO</td>\n",
              "      <td>NaT</td>\n",
              "      <td>0</td>\n",
              "      <td>1</td>\n",
              "      <td>NÃO</td>\n",
              "      <td>2018-08-28</td>\n",
              "    </tr>\n",
              "    <tr>\n",
              "      <th>201805021421302</th>\n",
              "      <td>INCIDENTE</td>\n",
              "      <td>AERÓDROMO</td>\n",
              "      <td>AERÓDROMO</td>\n",
              "      <td>ADRM</td>\n",
              "      <td>-11.4956</td>\n",
              "      <td>-61.4508</td>\n",
              "      <td>CACOAL</td>\n",
              "      <td>RO</td>\n",
              "      <td>BRASIL</td>\n",
              "      <td>SSKW</td>\n",
              "      <td>2018-03-09</td>\n",
              "      <td>22:40:00</td>\n",
              "      <td>SIM</td>\n",
              "      <td>FINALIZADA</td>\n",
              "      <td>***</td>\n",
              "      <td>NÃO</td>\n",
              "      <td>NaT</td>\n",
              "      <td>0</td>\n",
              "      <td>1</td>\n",
              "      <td>NÃO</td>\n",
              "      <td>2018-08-28</td>\n",
              "    </tr>\n",
              "    <tr>\n",
              "      <th>201311259977425</th>\n",
              "      <td>INCIDENTE GRAVE</td>\n",
              "      <td>POUSO SEM TREM</td>\n",
              "      <td>CONTATO ANORMAL COM A PISTA</td>\n",
              "      <td>ARC</td>\n",
              "      <td>-11.4956</td>\n",
              "      <td>-61.4508</td>\n",
              "      <td>CACOAL</td>\n",
              "      <td>RO</td>\n",
              "      <td>BRASIL</td>\n",
              "      <td>SSKW</td>\n",
              "      <td>2013-11-25</td>\n",
              "      <td>12:32:00</td>\n",
              "      <td>NaN</td>\n",
              "      <td>FINALIZADA</td>\n",
              "      <td>IG-209/CENIPA/2013</td>\n",
              "      <td>SIM</td>\n",
              "      <td>2014-04-07</td>\n",
              "      <td>0</td>\n",
              "      <td>1</td>\n",
              "      <td>NÃO</td>\n",
              "      <td>2018-08-28</td>\n",
              "    </tr>\n",
              "    <tr>\n",
              "      <th>201103187273112</th>\n",
              "      <td>INCIDENTE</td>\n",
              "      <td>OUTROS</td>\n",
              "      <td>OUTROS</td>\n",
              "      <td>OTHR</td>\n",
              "      <td>-13.1950</td>\n",
              "      <td>-60.8184</td>\n",
              "      <td>CEREJEIRAS</td>\n",
              "      <td>RO</td>\n",
              "      <td>BRASIL</td>\n",
              "      <td>****</td>\n",
              "      <td>2011-03-18</td>\n",
              "      <td>13:30:00</td>\n",
              "      <td>NaN</td>\n",
              "      <td>FINALIZADA</td>\n",
              "      <td>***</td>\n",
              "      <td>NÃO</td>\n",
              "      <td>NaT</td>\n",
              "      <td>0</td>\n",
              "      <td>1</td>\n",
              "      <td>NÃO</td>\n",
              "      <td>2018-08-28</td>\n",
              "    </tr>\n",
              "  </tbody>\n",
              "</table>\n",
              "</div>"
            ],
            "text/plain": [
              "                  ocorrencia_classificacao  ... ocorrencia_dia_extracao\n",
              "codigo_ocorrencia                           ...                        \n",
              "201305055424986                   ACIDENTE  ...              2018-08-28\n",
              "201605160250139            INCIDENTE GRAVE  ...              2018-08-28\n",
              "201805021421302                  INCIDENTE  ...              2018-08-28\n",
              "201311259977425            INCIDENTE GRAVE  ...              2018-08-28\n",
              "201103187273112                  INCIDENTE  ...              2018-08-28\n",
              "\n",
              "[5 rows x 21 columns]"
            ]
          },
          "metadata": {},
          "execution_count": 7
        }
      ]
    },
    {
      "cell_type": "markdown",
      "metadata": {
        "id": "6DMHH4A1aM4c"
      },
      "source": [
        "Já ajustado os dtypes, vamos olhar para os valores não nulos do nosso dataset, sabemos que temos 5208 entradas, então, na coluna 'Non-Null Count' toda entrada que não for 5208 deve ser analisada\n",
        "\n",
        "Aqui temos duas features do nosso dataset para analisarmos\n",
        "- investigacao_aeronave_liberada\n",
        "- divulgacao_dia_publicacao\n",
        "\n",
        "Começando com a primeira:"
      ]
    },
    {
      "cell_type": "code",
      "metadata": {
        "colab": {
          "base_uri": "https://localhost:8080/"
        },
        "id": "_R4R0kawW0fj",
        "outputId": "7d5136a1-c2e0-41f2-c4ad-293348ef6368"
      },
      "source": [
        "# distribuição dos dados não nulos da coluna 'investigacao_aeronave_liberada'\n",
        "df.investigacao_aeronave_liberada[df.investigacao_aeronave_liberada.notnull()].value_counts()"
      ],
      "execution_count": null,
      "outputs": [
        {
          "output_type": "execute_result",
          "data": {
            "text/plain": [
              "SIM    1020\n",
              "NÃO      81\n",
              "***       9\n",
              "Name: investigacao_aeronave_liberada, dtype: int64"
            ]
          },
          "metadata": {},
          "execution_count": 8
        }
      ]
    },
    {
      "cell_type": "code",
      "metadata": {
        "colab": {
          "base_uri": "https://localhost:8080/"
        },
        "id": "TsVKp1bsWbPt",
        "outputId": "bcd0d952-16fd-44b9-f35d-3ff675c1c58d"
      },
      "source": [
        "# olhando como percentual, temos\n",
        "df.investigacao_aeronave_liberada.value_counts(normalize=True,) * 100"
      ],
      "execution_count": null,
      "outputs": [
        {
          "output_type": "execute_result",
          "data": {
            "text/plain": [
              "SIM    91.891892\n",
              "NÃO     7.297297\n",
              "***     0.810811\n",
              "Name: investigacao_aeronave_liberada, dtype: float64"
            ]
          },
          "metadata": {},
          "execution_count": 9
        }
      ]
    },
    {
      "cell_type": "code",
      "metadata": {
        "colab": {
          "base_uri": "https://localhost:8080/"
        },
        "id": "-fUVtDvJWk1u",
        "outputId": "4ae14f69-6b5c-44cb-ab52-7697bac1e940"
      },
      "source": [
        "# quantidade de dados aparentemente nulos na coluna 'investigacao_aeronave_liberada'\n",
        "df.investigacao_aeronave_liberada.isnull().value_counts()"
      ],
      "execution_count": null,
      "outputs": [
        {
          "output_type": "execute_result",
          "data": {
            "text/plain": [
              "True     4098\n",
              "False    1110\n",
              "Name: investigacao_aeronave_liberada, dtype: int64"
            ]
          },
          "metadata": {},
          "execution_count": 10
        }
      ]
    },
    {
      "cell_type": "code",
      "metadata": {
        "id": "g0AXctnbWvnI"
      },
      "source": [
        "# considerando de que é esperado que essa coluna seja um dado categorio de 'Sim' ou 'Não', vamos preencher o valores NaN com 'Não', talvez o sistema de contabilização seja de um checklist e o NaN são de quando não foi o 'SIM'\n",
        "df.investigacao_aeronave_liberada.fillna('NÃO',inplace=True)"
      ],
      "execution_count": null,
      "outputs": []
    },
    {
      "cell_type": "code",
      "metadata": {
        "colab": {
          "base_uri": "https://localhost:8080/"
        },
        "id": "BBaFDIaLXmjO",
        "outputId": "75ebe99a-1a7d-48eb-af95-90801c9d53a8"
      },
      "source": [
        "# Olhando novamente distribuição dos dados não nulos da coluna 'investigacao_aeronave_liberada', desta vez com os dados faltantes preenchidos\n",
        "df.investigacao_aeronave_liberada[df.investigacao_aeronave_liberada.notnull()].value_counts()"
      ],
      "execution_count": null,
      "outputs": [
        {
          "output_type": "execute_result",
          "data": {
            "text/plain": [
              "NÃO    4179\n",
              "SIM    1020\n",
              "***       9\n",
              "Name: investigacao_aeronave_liberada, dtype: int64"
            ]
          },
          "metadata": {},
          "execution_count": 12
        }
      ]
    },
    {
      "cell_type": "code",
      "metadata": {
        "colab": {
          "base_uri": "https://localhost:8080/"
        },
        "id": "0LJvXd1yY35W",
        "outputId": "0dc0f7fb-7507-4658-9093-4abe849e80b8"
      },
      "source": [
        "# Novamnete, olhando como percentual, temos\n",
        "df.investigacao_aeronave_liberada.value_counts(normalize=True,) * 100"
      ],
      "execution_count": null,
      "outputs": [
        {
          "output_type": "execute_result",
          "data": {
            "text/plain": [
              "NÃO    80.241935\n",
              "SIM    19.585253\n",
              "***     0.172811\n",
              "Name: investigacao_aeronave_liberada, dtype: float64"
            ]
          },
          "metadata": {},
          "execution_count": 13
        }
      ]
    },
    {
      "cell_type": "markdown",
      "metadata": {
        "id": "Jw9AXErRY-sE"
      },
      "source": [
        "A conclusão a primeira vista, sem tratar os dados faltantes, estariamos inclicados a pensar de que a maior parte das ocorrencias do nosso dataset se deu com a investigação da aeronave liberada, quando na verdade não estava."
      ]
    },
    {
      "cell_type": "code",
      "metadata": {
        "id": "nSt5y1T1Y7GU",
        "colab": {
          "base_uri": "https://localhost:8080/"
        },
        "outputId": "133aea63-0817-49dd-997c-6b6527e498ce"
      },
      "source": [
        "df.info()"
      ],
      "execution_count": null,
      "outputs": [
        {
          "output_type": "stream",
          "name": "stdout",
          "text": [
            "<class 'pandas.core.frame.DataFrame'>\n",
            "Int64Index: 5208 entries, 201305055424986 to 201309012098180\n",
            "Data columns (total 21 columns):\n",
            " #   Column                          Non-Null Count  Dtype         \n",
            "---  ------                          --------------  -----         \n",
            " 0   ocorrencia_classificacao        5208 non-null   object        \n",
            " 1   ocorrencia_tipo                 5208 non-null   object        \n",
            " 2   ocorrencia_tipo_categoria       5208 non-null   object        \n",
            " 3   ocorrencia_tipo_icao            5208 non-null   object        \n",
            " 4   ocorrencia_latitude             5208 non-null   float64       \n",
            " 5   ocorrencia_longitude            5208 non-null   float64       \n",
            " 6   ocorrencia_cidade               5208 non-null   object        \n",
            " 7   ocorrencia_uf                   5208 non-null   object        \n",
            " 8   ocorrencia_pais                 5208 non-null   object        \n",
            " 9   ocorrencia_aerodromo            5208 non-null   object        \n",
            " 10  ocorrencia_dia                  5208 non-null   datetime64[ns]\n",
            " 11  ocorrencia_horario              5208 non-null   object        \n",
            " 12  investigacao_aeronave_liberada  5208 non-null   object        \n",
            " 13  investigacao_status             5208 non-null   object        \n",
            " 14  divulgacao_relatorio_numero     5208 non-null   object        \n",
            " 15  divulgacao_relatorio_publicado  5208 non-null   object        \n",
            " 16  divulgacao_dia_publicacao       1261 non-null   datetime64[ns]\n",
            " 17  total_recomendacoes             5208 non-null   int64         \n",
            " 18  total_aeronaves_envolvidas      5208 non-null   int64         \n",
            " 19  ocorrencia_saida_pista          5208 non-null   object        \n",
            " 20  ocorrencia_dia_extracao         5208 non-null   datetime64[ns]\n",
            "dtypes: datetime64[ns](3), float64(2), int64(2), object(14)\n",
            "memory usage: 895.1+ KB\n"
          ]
        }
      ]
    },
    {
      "cell_type": "markdown",
      "metadata": {
        "id": "IDJuTO-lqPkP"
      },
      "source": [
        "Dessa vez tratando a segunda (divulgacao_dia_publicacao), vamos verificar o percentual de dados faltantes para então decidirmos se vamos excluir os dados (caso seja um valor muito pequeno do dataframe) ou se vamos encontrar alguma maneira de preenche-los (quando a quantidade de dados ausentes for significativa)"
      ]
    },
    {
      "cell_type": "code",
      "metadata": {
        "colab": {
          "base_uri": "https://localhost:8080/"
        },
        "id": "4OKRjE2UZzmG",
        "outputId": "d82f44e0-1d06-43a3-e109-292d8bdb2ab8"
      },
      "source": [
        "# verificando a o percentual de dados faltantes\n",
        "df.divulgacao_dia_publicacao.isnull().value_counts(normalize=True) * 100"
      ],
      "execution_count": null,
      "outputs": [
        {
          "output_type": "execute_result",
          "data": {
            "text/plain": [
              "True     75.78725\n",
              "False    24.21275\n",
              "Name: divulgacao_dia_publicacao, dtype: float64"
            ]
          },
          "metadata": {},
          "execution_count": 15
        }
      ]
    },
    {
      "cell_type": "markdown",
      "metadata": {
        "id": "DDPhVts3qve-"
      },
      "source": [
        "Como os dados faltantes representam >75% do nosso dataset vamos preenche-lo, a maneira encontrada de fazer isso foi:\n",
        "\n",
        "Considerando os dados não nulos, foi calculado o tempo médio entre a data de ocorrencia e a de publicação então foi somado a data de ocorrencia dos valores nulos preenchendo assim os campos nulos na feature 'divulgacao_dia_publicacao'."
      ]
    },
    {
      "cell_type": "code",
      "metadata": {
        "colab": {
          "base_uri": "https://localhost:8080/"
        },
        "id": "Xqc7srn7cWt9",
        "outputId": "e51f6787-21d0-4f9a-a1bd-a19dacd00569"
      },
      "source": [
        "# cálculo da média a ser utilizada\n",
        "dias_entre_ocorrencia_e_publicacao = df[df.divulgacao_dia_publicacao.notnull()].divulgacao_dia_publicacao - df[df.divulgacao_dia_publicacao.notnull()].ocorrencia_dia\n",
        "dias_entre_ocorrencia_e_publicacao.mean()"
      ],
      "execution_count": null,
      "outputs": [
        {
          "output_type": "execute_result",
          "data": {
            "text/plain": [
              "Timedelta('767 days 21:09:50.959555912')"
            ]
          },
          "metadata": {},
          "execution_count": 16
        }
      ]
    },
    {
      "cell_type": "code",
      "metadata": {
        "colab": {
          "base_uri": "https://localhost:8080/"
        },
        "id": "Aqy5NnLZc0Fm",
        "outputId": "79ea76a4-e7d9-46f1-ad88-7b11ba7e7f02"
      },
      "source": [
        "# para fins de comparação, o codigo de ocorencia\n",
        "df[df.divulgacao_dia_publicacao.notnull()].ocorrencia_dia"
      ],
      "execution_count": null,
      "outputs": [
        {
          "output_type": "execute_result",
          "data": {
            "text/plain": [
              "codigo_ocorrencia\n",
              "201311259977425   2013-11-25\n",
              "200808073991179   2008-08-07\n",
              "201108118145873   2011-08-11\n",
              "201604062021424   2016-04-05\n",
              "201208018273083   2012-08-01\n",
              "                     ...    \n",
              "201412032134334   2014-12-03\n",
              "201505293589133   2015-05-29\n",
              "201406236453857   2014-06-23\n",
              "201704150134378   2017-04-12\n",
              "201309012098180   2013-09-02\n",
              "Name: ocorrencia_dia, Length: 1261, dtype: datetime64[ns]"
            ]
          },
          "metadata": {},
          "execution_count": 17
        }
      ]
    },
    {
      "cell_type": "markdown",
      "metadata": {
        "id": "Zwlw6XVRr-gP"
      },
      "source": [
        "Afim de verificar de uma maneira visual é esperado que cada linhas a baixo seja a linha de cima acrescentada de 767 dias(aproximadamente 2 anos)"
      ]
    },
    {
      "cell_type": "code",
      "metadata": {
        "colab": {
          "base_uri": "https://localhost:8080/"
        },
        "id": "MiJ4xREre0IU",
        "outputId": "d7f106fb-8e2e-44a2-e8b5-bfab96e6c716"
      },
      "source": [
        "# código de ocorrencia acrescentada de 767 dias\n",
        "df[df.divulgacao_dia_publicacao.notnull()].ocorrencia_dia + dias_entre_ocorrencia_e_publicacao.mean()"
      ],
      "execution_count": null,
      "outputs": [
        {
          "output_type": "execute_result",
          "data": {
            "text/plain": [
              "codigo_ocorrencia\n",
              "201311259977425   2016-01-01 21:09:50.959555912\n",
              "200808073991179   2010-09-13 21:09:50.959555912\n",
              "201108118145873   2013-09-16 21:09:50.959555912\n",
              "201604062021424   2018-05-12 21:09:50.959555912\n",
              "201208018273083   2014-09-07 21:09:50.959555912\n",
              "                               ...             \n",
              "201412032134334   2017-01-08 21:09:50.959555912\n",
              "201505293589133   2017-07-04 21:09:50.959555912\n",
              "201406236453857   2016-07-29 21:09:50.959555912\n",
              "201704150134378   2019-05-19 21:09:50.959555912\n",
              "201309012098180   2015-10-09 21:09:50.959555912\n",
              "Name: ocorrencia_dia, Length: 1261, dtype: datetime64[ns]"
            ]
          },
          "metadata": {},
          "execution_count": 18
        }
      ]
    },
    {
      "cell_type": "code",
      "metadata": {
        "colab": {
          "base_uri": "https://localhost:8080/"
        },
        "id": "bQkcPzT0lZiH",
        "outputId": "8a38fb6a-ed05-4c07-c16c-7ac72ee770bc"
      },
      "source": [
        "# Visualização do index da seleção acima\n",
        "df.divulgacao_dia_publicacao.isnull().index"
      ],
      "execution_count": null,
      "outputs": [
        {
          "output_type": "execute_result",
          "data": {
            "text/plain": [
              "Int64Index([201305055424986, 201605160250139, 201805021421302, 201311259977425,\n",
              "            201103187273112, 200808073991179, 201108118145873, 201604251335501,\n",
              "            201604062021424, 200902274965349,\n",
              "            ...\n",
              "            200810155397991, 201502247981603, 200811129767665, 200811224318981,\n",
              "            200811226332275, 200811264169752, 200910311058203, 200810318709738,\n",
              "            200803063018556, 201309012098180],\n",
              "           dtype='int64', name='codigo_ocorrencia', length=5208)"
            ]
          },
          "metadata": {},
          "execution_count": 19
        }
      ]
    },
    {
      "cell_type": "code",
      "metadata": {
        "id": "P4tG1pQae2dC"
      },
      "source": [
        "# Preenchendo somente os valores vazios em df utilizando do laço de repetição for\n",
        "for i in df.divulgacao_dia_publicacao.isnull().index:\n",
        "  df.loc[i,'divulgacao_dia_publicacao'] = df.loc[i,'ocorrencia_dia'] + dias_entre_ocorrencia_e_publicacao.mean()"
      ],
      "execution_count": null,
      "outputs": []
    },
    {
      "cell_type": "code",
      "metadata": {
        "colab": {
          "base_uri": "https://localhost:8080/"
        },
        "id": "pyF80DHajoRp",
        "outputId": "f6214973-1260-4cf8-b77d-e7ba475842f2"
      },
      "source": [
        "df.divulgacao_dia_publicacao"
      ],
      "execution_count": null,
      "outputs": [
        {
          "output_type": "execute_result",
          "data": {
            "text/plain": [
              "codigo_ocorrencia\n",
              "201305055424986   2015-06-11 21:09:50.959555912\n",
              "201605160250139   2018-06-19 21:09:50.959555912\n",
              "201805021421302   2020-04-14 21:09:50.959555912\n",
              "201311259977425   2016-01-01 21:09:50.959555912\n",
              "201103187273112   2013-04-23 21:09:50.959555912\n",
              "                               ...             \n",
              "200811264169752   2011-01-02 21:09:50.959555912\n",
              "200910311058203   2011-12-07 21:09:50.959555912\n",
              "200810318709738   2010-12-07 21:09:50.959555912\n",
              "200803063018556   2010-04-12 21:09:50.959555912\n",
              "201309012098180   2015-10-09 21:09:50.959555912\n",
              "Name: divulgacao_dia_publicacao, Length: 5208, dtype: datetime64[ns]"
            ]
          },
          "metadata": {},
          "execution_count": 21
        }
      ]
    },
    {
      "cell_type": "code",
      "metadata": {
        "id": "1kk6Nq7pmr4p"
      },
      "source": [
        "# como visto acima não está mostrando somente o dia como é esperado, dessa forma precisamos formatar para ano-mês-dia\n",
        "df['divulgacao_dia_publicacao'] = df['divulgacao_dia_publicacao'].dt.strftime('%Y-%m-%d')\n",
        "# Nesta formatação acabou convertando o dtype de datetime para string, então, convertendo novamente\n",
        "df['divulgacao_dia_publicacao'] = pd.to_datetime(df['divulgacao_dia_publicacao'])"
      ],
      "execution_count": null,
      "outputs": []
    },
    {
      "cell_type": "code",
      "metadata": {
        "colab": {
          "base_uri": "https://localhost:8080/"
        },
        "id": "Q7OVvxwBnA1I",
        "outputId": "d491885e-af05-47c4-d6cf-1dedd34fe595"
      },
      "source": [
        "df.info()"
      ],
      "execution_count": null,
      "outputs": [
        {
          "output_type": "stream",
          "name": "stdout",
          "text": [
            "<class 'pandas.core.frame.DataFrame'>\n",
            "Int64Index: 5208 entries, 201305055424986 to 201309012098180\n",
            "Data columns (total 21 columns):\n",
            " #   Column                          Non-Null Count  Dtype         \n",
            "---  ------                          --------------  -----         \n",
            " 0   ocorrencia_classificacao        5208 non-null   object        \n",
            " 1   ocorrencia_tipo                 5208 non-null   object        \n",
            " 2   ocorrencia_tipo_categoria       5208 non-null   object        \n",
            " 3   ocorrencia_tipo_icao            5208 non-null   object        \n",
            " 4   ocorrencia_latitude             5208 non-null   float64       \n",
            " 5   ocorrencia_longitude            5208 non-null   float64       \n",
            " 6   ocorrencia_cidade               5208 non-null   object        \n",
            " 7   ocorrencia_uf                   5208 non-null   object        \n",
            " 8   ocorrencia_pais                 5208 non-null   object        \n",
            " 9   ocorrencia_aerodromo            5208 non-null   object        \n",
            " 10  ocorrencia_dia                  5208 non-null   datetime64[ns]\n",
            " 11  ocorrencia_horario              5208 non-null   object        \n",
            " 12  investigacao_aeronave_liberada  5208 non-null   object        \n",
            " 13  investigacao_status             5208 non-null   object        \n",
            " 14  divulgacao_relatorio_numero     5208 non-null   object        \n",
            " 15  divulgacao_relatorio_publicado  5208 non-null   object        \n",
            " 16  divulgacao_dia_publicacao       5208 non-null   datetime64[ns]\n",
            " 17  total_recomendacoes             5208 non-null   int64         \n",
            " 18  total_aeronaves_envolvidas      5208 non-null   int64         \n",
            " 19  ocorrencia_saida_pista          5208 non-null   object        \n",
            " 20  ocorrencia_dia_extracao         5208 non-null   datetime64[ns]\n",
            "dtypes: datetime64[ns](3), float64(2), int64(2), object(14)\n",
            "memory usage: 1.0+ MB\n"
          ]
        }
      ]
    },
    {
      "cell_type": "code",
      "metadata": {
        "colab": {
          "base_uri": "https://localhost:8080/"
        },
        "id": "oH7dLe19oigs",
        "outputId": "6acafcb9-beb7-485a-f7ca-ee080ec617b0"
      },
      "source": [
        "# verificando a existencia de algum dado ausente\n",
        "df.isnull().sum().sum()"
      ],
      "execution_count": null,
      "outputs": [
        {
          "output_type": "execute_result",
          "data": {
            "text/plain": [
              "0"
            ]
          },
          "metadata": {},
          "execution_count": 33
        }
      ]
    },
    {
      "cell_type": "markdown",
      "metadata": {
        "id": "3ERHte1juANN"
      },
      "source": [
        "Nesta parte já temos o nosso dataset sem dados faltantes e com os dtypes corretos"
      ]
    },
    {
      "cell_type": "code",
      "metadata": {
        "id": "lA857JeZr6Xl"
      },
      "source": [
        ""
      ],
      "execution_count": null,
      "outputs": []
    }
  ]
}