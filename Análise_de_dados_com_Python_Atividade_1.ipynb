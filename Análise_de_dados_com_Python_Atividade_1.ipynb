{
  "nbformat": 4,
  "nbformat_minor": 0,
  "metadata": {
    "colab": {
      "name": "Análise de dados com Python  Atividade 1.ipynb",
      "provenance": [],
      "authorship_tag": "ABX9TyOa3gBGMX3T+z+h/RGv+Aik",
      "include_colab_link": true
    },
    "kernelspec": {
      "name": "python3",
      "display_name": "Python 3"
    },
    "language_info": {
      "name": "python"
    }
  },
  "cells": [
    {
      "cell_type": "markdown",
      "metadata": {
        "id": "view-in-github",
        "colab_type": "text"
      },
      "source": [
        "<a href=\"https://colab.research.google.com/github/douglascdsantos/data_science/blob/main/An%C3%A1lise_de_dados_com_Python_Atividade_1.ipynb\" target=\"_parent\"><img src=\"https://colab.research.google.com/assets/colab-badge.svg\" alt=\"Open In Colab\"/></a>"
      ]
    },
    {
      "cell_type": "markdown",
      "metadata": {
        "id": "jFddcF3ahkmf"
      },
      "source": [
        "# Análise de dados com Python Atividade 1\n",
        "Discente: Douglas Camargo dos Santos\n",
        "\n",
        "[pdf com questões](https://github.com/douglascdsantos/unesp_analise_de_dados_com_python/blob/main/Atividade%201/adp-lista-01.pdf)"
      ]
    },
    {
      "cell_type": "markdown",
      "metadata": {
        "id": "J6o9LcfJW7dw"
      },
      "source": [
        "## Exercício 01 (c)\n"
      ]
    },
    {
      "cell_type": "markdown",
      "metadata": {
        "id": "q2uyA8pqYl_4"
      },
      "source": [
        "## Exercício 02 (d)\n"
      ]
    },
    {
      "cell_type": "markdown",
      "metadata": {
        "id": "FpYWH-XUYn3_"
      },
      "source": [
        "## Exercício 03 (a)\n"
      ]
    },
    {
      "cell_type": "markdown",
      "metadata": {
        "id": "Y3ZG2BxlYptX"
      },
      "source": [
        "## Exercício 04 (c)\n"
      ]
    },
    {
      "cell_type": "markdown",
      "metadata": {
        "id": "F6SlqJdmYrx_"
      },
      "source": [
        "## Exercício 05 (a)\n"
      ]
    },
    {
      "cell_type": "markdown",
      "metadata": {
        "id": "O1Q2HQk1Ytzm"
      },
      "source": [
        "## Exercício 06 (a)\n"
      ]
    },
    {
      "cell_type": "markdown",
      "metadata": {
        "id": "7QSFtBxaYvgH"
      },
      "source": [
        "## Exercício 07 (c)\n"
      ]
    },
    {
      "cell_type": "markdown",
      "metadata": {
        "id": "eKyCe0teYxA_"
      },
      "source": [
        "## Exercício 08 (c)"
      ]
    },
    {
      "cell_type": "markdown",
      "metadata": {
        "id": "AeRek04aYz4d"
      },
      "source": [
        "## Exercício 09 (c)\n"
      ]
    },
    {
      "cell_type": "markdown",
      "metadata": {
        "id": "xxJgW7yzY0Ah"
      },
      "source": [
        "## Exercício 10 (c)\n"
      ]
    },
    {
      "cell_type": "code",
      "metadata": {
        "colab": {
          "base_uri": "https://localhost:8080/"
        },
        "id": "NVMBqfhaY4iP",
        "outputId": "51ef2326-6842-4e04-f240-64dcc5f115bc"
      },
      "source": [
        "a = 10\n",
        "b = 5\n",
        "c = a + b\n",
        "b = 20\n",
        "print(a,b,c)"
      ],
      "execution_count": 10,
      "outputs": [
        {
          "output_type": "stream",
          "name": "stdout",
          "text": [
            "10 20 15\n"
          ]
        }
      ]
    },
    {
      "cell_type": "markdown",
      "metadata": {
        "id": "9B_hYPSWY0DY"
      },
      "source": [
        "## Exercício 11 (c)\n"
      ]
    },
    {
      "cell_type": "code",
      "metadata": {
        "colab": {
          "base_uri": "https://localhost:8080/"
        },
        "id": "cDmoPiPMZhF3",
        "outputId": "bcd0eb25-2b87-44d3-e9fa-901a09da8eb6"
      },
      "source": [
        "print(\"Olá\" 'mundo')"
      ],
      "execution_count": 11,
      "outputs": [
        {
          "output_type": "stream",
          "name": "stdout",
          "text": [
            "Olámundo\n"
          ]
        }
      ]
    },
    {
      "cell_type": "markdown",
      "metadata": {
        "id": "SreHi2RDY0GD"
      },
      "source": [
        "## Exercício 12 (b)\n"
      ]
    },
    {
      "cell_type": "code",
      "metadata": {
        "colab": {
          "base_uri": "https://localhost:8080/"
        },
        "id": "C-DBI9YIZys3",
        "outputId": "57bc619b-14a5-4593-a37e-7be4e9cbdc57"
      },
      "source": [
        "x = 2\n",
        "2 == x"
      ],
      "execution_count": 13,
      "outputs": [
        {
          "output_type": "execute_result",
          "data": {
            "text/plain": [
              "True"
            ]
          },
          "metadata": {},
          "execution_count": 13
        }
      ]
    },
    {
      "cell_type": "markdown",
      "metadata": {
        "id": "80r-S72yY0Ig"
      },
      "source": [
        "## Exercício 13 (c, d, f, h)\n"
      ]
    },
    {
      "cell_type": "markdown",
      "metadata": {
        "id": "Nmzssn7UY0LC"
      },
      "source": [
        "## Exercício 14 (b)\n"
      ]
    },
    {
      "cell_type": "code",
      "metadata": {
        "colab": {
          "base_uri": "https://localhost:8080/"
        },
        "id": "5lJyNSH9aTB3",
        "outputId": "c19204bb-a031-4cbd-c9f9-5bd2d915fbde"
      },
      "source": [
        "x = 5\n",
        "y = 3\n",
        "x > y"
      ],
      "execution_count": 14,
      "outputs": [
        {
          "output_type": "execute_result",
          "data": {
            "text/plain": [
              "True"
            ]
          },
          "metadata": {},
          "execution_count": 14
        }
      ]
    },
    {
      "cell_type": "markdown",
      "metadata": {
        "id": "Xkby5zaqY0Np"
      },
      "source": [
        "## Exercício 15 (e)\n"
      ]
    },
    {
      "cell_type": "code",
      "metadata": {
        "colab": {
          "base_uri": "https://localhost:8080/"
        },
        "id": "SuFkOENVacFe",
        "outputId": "7c871743-3437-46b4-d38a-611005a83722"
      },
      "source": [
        "x = 5\n",
        "y = 3\n",
        "z = 7\n",
        "x > y and x < z"
      ],
      "execution_count": 15,
      "outputs": [
        {
          "output_type": "execute_result",
          "data": {
            "text/plain": [
              "True"
            ]
          },
          "metadata": {},
          "execution_count": 15
        }
      ]
    },
    {
      "cell_type": "markdown",
      "metadata": {
        "id": "bi0oVuU1Y0QW"
      },
      "source": [
        "## Exercício 16 (a)"
      ]
    },
    {
      "cell_type": "code",
      "metadata": {
        "colab": {
          "base_uri": "https://localhost:8080/"
        },
        "id": "UWYOaXrEa7Sn",
        "outputId": "82a162fc-dc0d-4cbd-c6a2-07d991805c6a"
      },
      "source": [
        "idade = 15\n",
        "maior_idade = 18\n",
        "pode_dirigir = idade > maior_idade\n",
        "print(pode_dirigir)"
      ],
      "execution_count": 17,
      "outputs": [
        {
          "output_type": "stream",
          "name": "stdout",
          "text": [
            "False\n"
          ]
        }
      ]
    },
    {
      "cell_type": "markdown",
      "metadata": {
        "id": "P7k3ihBdY0TL"
      },
      "source": [
        "## Exercício 17 (c)"
      ]
    },
    {
      "cell_type": "code",
      "metadata": {
        "colab": {
          "base_uri": "https://localhost:8080/"
        },
        "id": "bwG0g0KobGDu",
        "outputId": "a2d205ab-b80e-4bc3-d8ea-a94efe0e8fc5"
      },
      "source": [
        "x = 10\n",
        "y = 15\n",
        "z = 25\n",
        "print(x == z - y and z != y - x or not y != z - x)\n",
        "##       True     and   False    or not   False\n",
        "##       True     and   False    or    True\n",
        "##               False           or    True\n",
        "##                              True"
      ],
      "execution_count": 18,
      "outputs": [
        {
          "output_type": "stream",
          "name": "stdout",
          "text": [
            "True\n"
          ]
        }
      ]
    },
    {
      "cell_type": "markdown",
      "metadata": {
        "id": "liqW7oGhY0Vw"
      },
      "source": [
        "## Exercício 18 (c)\n",
        "questão igual a anterior.\n"
      ]
    },
    {
      "cell_type": "markdown",
      "metadata": {
        "id": "ZQV7-PNideV_"
      },
      "source": [
        "## Exercício 19 (a, b, c)"
      ]
    },
    {
      "cell_type": "code",
      "metadata": {
        "colab": {
          "base_uri": "https://localhost:8080/"
        },
        "id": "qMH-HBridhFX",
        "outputId": "43323218-6f50-487a-dc53-2ffc58678a6a"
      },
      "source": [
        "x = 10\n",
        "y = 20\n",
        "z = 30\n",
        "print(not y < 10 or not z == 10)\n",
        "print(x <= 30 and y >= 5)\n",
        "print(x >= 10 or y != z - x)\n",
        "print(not y > 10 or not z > 10)"
      ],
      "execution_count": 19,
      "outputs": [
        {
          "output_type": "stream",
          "name": "stdout",
          "text": [
            "True\n",
            "True\n",
            "True\n",
            "False\n"
          ]
        }
      ]
    },
    {
      "cell_type": "markdown",
      "metadata": {
        "id": "vZFzBwIRedmv"
      },
      "source": [
        "## Exercício 20 (c)"
      ]
    },
    {
      "cell_type": "code",
      "metadata": {
        "colab": {
          "base_uri": "https://localhost:8080/"
        },
        "id": "2d0JSJ8deZmH",
        "outputId": "4620015e-18dc-49ef-b6f4-39c1672b033b"
      },
      "source": [
        "x = 10\n",
        "print(x == 20)\n",
        "print(not(x == 10))\n",
        "print(x != 20)\n",
        "print(x != 10)"
      ],
      "execution_count": 20,
      "outputs": [
        {
          "output_type": "stream",
          "name": "stdout",
          "text": [
            "False\n",
            "False\n",
            "True\n",
            "False\n"
          ]
        }
      ]
    },
    {
      "cell_type": "markdown",
      "metadata": {
        "id": "sBLI9eUYgAnf"
      },
      "source": [
        "## Exercício 21 (a)\n",
        "\n",
        "`x != y` retorna False para `x = y`, caso contrário True\n",
        "\n",
        "a) qualquer valor de x diferente de y resulta em True, se `x = y` então False.\n",
        "\n",
        "b) retorna True para qualquer valor de x e y.\n",
        "\n",
        "c) se `x = y` retorna False, caso contrário True.\n",
        "\n",
        "d) retorna False para qualquer valor de x e y.\n",
        "\n"
      ]
    },
    {
      "cell_type": "code",
      "metadata": {
        "colab": {
          "base_uri": "https://localhost:8080/"
        },
        "id": "Uaf_1cH7ewHV",
        "outputId": "1d064718-1ac8-4997-84f5-27da05da0fd6"
      },
      "source": [
        "x = 10\n",
        "y = 10\n",
        "x > y and x < y"
      ],
      "execution_count": 22,
      "outputs": [
        {
          "output_type": "execute_result",
          "data": {
            "text/plain": [
              "False"
            ]
          },
          "metadata": {},
          "execution_count": 22
        }
      ]
    }
  ]
}